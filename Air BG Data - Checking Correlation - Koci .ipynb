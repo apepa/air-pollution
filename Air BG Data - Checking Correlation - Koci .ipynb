{
 "cells": [
  {
   "cell_type": "code",
   "execution_count": 4,
   "metadata": {
    "collapsed": true
   },
   "outputs": [],
   "source": [
    "import pandas as pd\n",
    "from os import listdir\n",
    "import seaborn as sns  # for nice plot styles (optional)\n",
    "\n",
    "%matplotlib inline"
   ]
  },
  {
   "cell_type": "code",
   "execution_count": 5,
   "metadata": {},
   "outputs": [],
   "source": [
    "df_sds0011 = pd.read_csv('/home/koci/air-pollution/pollution_weather_data (1).csv')"
   ]
  },
  {
   "cell_type": "code",
   "execution_count": 3,
   "metadata": {},
   "outputs": [
    {
     "data": {
      "text/plain": [
       "['Unnamed: 0',\n",
       " 'dt',\n",
       " 'dt_iso',\n",
       " 'city_id',\n",
       " 'city_name',\n",
       " 'lat_x',\n",
       " 'lon_x',\n",
       " 'temp',\n",
       " 'temp_min',\n",
       " 'temp_max',\n",
       " 'pressure',\n",
       " 'sea_level',\n",
       " 'grnd_level',\n",
       " 'humidity',\n",
       " 'wind_speed',\n",
       " 'wind_deg',\n",
       " 'rain_1h',\n",
       " 'rain_3h',\n",
       " 'rain_24h',\n",
       " 'rain_today',\n",
       " 'snow_1h',\n",
       " 'snow_3h',\n",
       " 'snow_24h',\n",
       " 'snow_today',\n",
       " 'clouds_all',\n",
       " 'weather_id',\n",
       " 'weather_main',\n",
       " 'weather_description',\n",
       " 'weather_icon',\n",
       " 'date',\n",
       " 'time',\n",
       " 'sensor_id',\n",
       " 'sensor_type',\n",
       " 'location',\n",
       " 'lat_y',\n",
       " 'lon_y',\n",
       " 'timestamp',\n",
       " 'P1',\n",
       " 'durP1',\n",
       " 'ratioP1',\n",
       " 'P2',\n",
       " 'durP2',\n",
       " 'ratioP2',\n",
       " 'month',\n",
       " 'month_p',\n",
       " 'units',\n",
       " 'subject',\n",
       " 'hour']"
      ]
     },
     "execution_count": 3,
     "metadata": {},
     "output_type": "execute_result"
    }
   ],
   "source": [
    "list(df_sds0011.columns.values)"
   ]
  },
  {
   "cell_type": "code",
   "execution_count": 4,
   "metadata": {
    "collapsed": true
   },
   "outputs": [],
   "source": [
    "df_weather_pollutant = df_sds0011[['temp','wind_speed','humidity','P1','P2']]"
   ]
  },
  {
   "cell_type": "code",
   "execution_count": 5,
   "metadata": {},
   "outputs": [
    {
     "data": {
      "text/html": [
       "<div>\n",
       "<style>\n",
       "    .dataframe thead tr:only-child th {\n",
       "        text-align: right;\n",
       "    }\n",
       "\n",
       "    .dataframe thead th {\n",
       "        text-align: left;\n",
       "    }\n",
       "\n",
       "    .dataframe tbody tr th {\n",
       "        vertical-align: top;\n",
       "    }\n",
       "</style>\n",
       "<table border=\"1\" class=\"dataframe\">\n",
       "  <thead>\n",
       "    <tr style=\"text-align: right;\">\n",
       "      <th></th>\n",
       "      <th>temp</th>\n",
       "      <th>wind_speed</th>\n",
       "      <th>humidity</th>\n",
       "      <th>P1</th>\n",
       "      <th>P2</th>\n",
       "    </tr>\n",
       "  </thead>\n",
       "  <tbody>\n",
       "    <tr>\n",
       "      <th>0</th>\n",
       "      <td>287.15</td>\n",
       "      <td>2</td>\n",
       "      <td>47</td>\n",
       "      <td>49.22</td>\n",
       "      <td>34.25</td>\n",
       "    </tr>\n",
       "    <tr>\n",
       "      <th>1</th>\n",
       "      <td>287.15</td>\n",
       "      <td>2</td>\n",
       "      <td>47</td>\n",
       "      <td>44.55</td>\n",
       "      <td>33.57</td>\n",
       "    </tr>\n",
       "    <tr>\n",
       "      <th>2</th>\n",
       "      <td>287.15</td>\n",
       "      <td>2</td>\n",
       "      <td>47</td>\n",
       "      <td>42.03</td>\n",
       "      <td>30.17</td>\n",
       "    </tr>\n",
       "    <tr>\n",
       "      <th>3</th>\n",
       "      <td>287.15</td>\n",
       "      <td>2</td>\n",
       "      <td>47</td>\n",
       "      <td>44.67</td>\n",
       "      <td>29.73</td>\n",
       "    </tr>\n",
       "    <tr>\n",
       "      <th>4</th>\n",
       "      <td>287.15</td>\n",
       "      <td>2</td>\n",
       "      <td>47</td>\n",
       "      <td>56.25</td>\n",
       "      <td>32.93</td>\n",
       "    </tr>\n",
       "  </tbody>\n",
       "</table>\n",
       "</div>"
      ],
      "text/plain": [
       "     temp  wind_speed  humidity     P1     P2\n",
       "0  287.15           2        47  49.22  34.25\n",
       "1  287.15           2        47  44.55  33.57\n",
       "2  287.15           2        47  42.03  30.17\n",
       "3  287.15           2        47  44.67  29.73\n",
       "4  287.15           2        47  56.25  32.93"
      ]
     },
     "execution_count": 5,
     "metadata": {},
     "output_type": "execute_result"
    }
   ],
   "source": [
    "df_weather_pollutant.head()"
   ]
  },
  {
   "cell_type": "code",
   "execution_count": 6,
   "metadata": {
    "collapsed": true
   },
   "outputs": [],
   "source": [
    "corr = df_weather_pollutant.corr()"
   ]
  },
  {
   "cell_type": "code",
   "execution_count": 7,
   "metadata": {},
   "outputs": [
    {
     "data": {
      "text/plain": [
       "<matplotlib.axes._subplots.AxesSubplot at 0x7f9ec033ef60>"
      ]
     },
     "execution_count": 7,
     "metadata": {},
     "output_type": "execute_result"
    },
    {
     "data": {
      "image/png": "[encoded data removed]",
      "text/plain": [
       "<matplotlib.figure.Figure at 0x7f9ec487f5c0>"
      ]
     },
     "metadata": {},
     "output_type": "display_data"
    }
   ],
   "source": [
    "sns.heatmap(corr, \n",
    "            xticklabels=corr.columns.values,\n",
    "            yticklabels=corr.columns.values)"
   ]
  },
  {
   "cell_type": "code",
   "execution_count": 8,
   "metadata": {},
   "outputs": [
    {
     "data": {
      "text/plain": [
       "<matplotlib.axes._subplots.AxesSubplot at 0x7f9ec41c0198>"
      ]
     },
     "execution_count": 8,
     "metadata": {},
     "output_type": "execute_result"
    },
    {
     "data": {
      "image/png": "[encoded data removed]",
      "text/plain": [
       "<matplotlib.figure.Figure at 0x7f9ec033e9e8>"
      ]
     },
     "metadata": {},
     "output_type": "display_data"
    }
   ],
   "source": [
    "sns.regplot(x=\"P1\", y=\"temp\", data=df_weather_pollutant)"
   ]
  },
  {
   "cell_type": "code",
   "execution_count": 6,
   "metadata": {},
   "outputs": [
    {
     "name": "stderr",
     "output_type": "stream",
     "text": [
      "/home/koci/bin/anaconda3/lib/python3.6/site-packages/pandas/core/ops.py:798: FutureWarning: elementwise comparison failed; returning scalar instead, but in the future will perform elementwise comparison\n",
      "  result = getattr(x, name)(y)\n"
     ]
    },
    {
     "ename": "TypeError",
     "evalue": "invalid type comparison",
     "output_type": "error",
     "traceback": [
      "\u001b[0;31m-----------------------------------------------------------------------\u001b[0m",
      "\u001b[0;31mTypeError\u001b[0m                             Traceback (most recent call last)",
      "\u001b[0;32m<ipython-input-6-87a5dbe77d63>\u001b[0m in \u001b[0;36m<module>\u001b[0;34m()\u001b[0m\n\u001b[0;32m----> 1\u001b[0;31m \u001b[0mdf_sds0011\u001b[0m\u001b[0;34m[\u001b[0m\u001b[0mdf_sds0011\u001b[0m\u001b[0;34m[\u001b[0m\u001b[0;34m'sensor_id'\u001b[0m\u001b[0;34m]\u001b[0m \u001b[0;34m==\u001b[0m \u001b[0;34m'753'\u001b[0m\u001b[0;34m]\u001b[0m\u001b[0;34m\u001b[0m\u001b[0m\n\u001b[0m",
      "\u001b[0;32m~/bin/anaconda3/lib/python3.6/site-packages/pandas/core/ops.py\u001b[0m in \u001b[0;36mwrapper\u001b[0;34m(self, other, axis)\u001b[0m\n\u001b[1;32m    859\u001b[0m \u001b[0;34m\u001b[0m\u001b[0m\n\u001b[1;32m    860\u001b[0m             \u001b[0;32mwith\u001b[0m \u001b[0mnp\u001b[0m\u001b[0;34m.\u001b[0m\u001b[0merrstate\u001b[0m\u001b[0;34m(\u001b[0m\u001b[0mall\u001b[0m\u001b[0;34m=\u001b[0m\u001b[0;34m'ignore'\u001b[0m\u001b[0;34m)\u001b[0m\u001b[0;34m:\u001b[0m\u001b[0;34m\u001b[0m\u001b[0m\n\u001b[0;32m--> 861\u001b[0;31m                 \u001b[0mres\u001b[0m \u001b[0;34m=\u001b[0m \u001b[0mna_op\u001b[0m\u001b[0;34m(\u001b[0m\u001b[0mvalues\u001b[0m\u001b[0;34m,\u001b[0m \u001b[0mother\u001b[0m\u001b[0;34m)\u001b[0m\u001b[0;34m\u001b[0m\u001b[0m\n\u001b[0m\u001b[1;32m    862\u001b[0m             \u001b[0;32mif\u001b[0m \u001b[0mis_scalar\u001b[0m\u001b[0;34m(\u001b[0m\u001b[0mres\u001b[0m\u001b[0;34m)\u001b[0m\u001b[0;34m:\u001b[0m\u001b[0;34m\u001b[0m\u001b[0m\n\u001b[1;32m    863\u001b[0m                 raise TypeError('Could not compare %s type with Series' %\n",
      "\u001b[0;32m~/bin/anaconda3/lib/python3.6/site-packages/pandas/core/ops.py\u001b[0m in \u001b[0;36mna_op\u001b[0;34m(x, y)\u001b[0m\n\u001b[1;32m    798\u001b[0m                     \u001b[0mresult\u001b[0m \u001b[0;34m=\u001b[0m \u001b[0mgetattr\u001b[0m\u001b[0;34m(\u001b[0m\u001b[0mx\u001b[0m\u001b[0;34m,\u001b[0m \u001b[0mname\u001b[0m\u001b[0;34m)\u001b[0m\u001b[0;34m(\u001b[0m\u001b[0my\u001b[0m\u001b[0;34m)\u001b[0m\u001b[0;34m\u001b[0m\u001b[0m\n\u001b[1;32m    799\u001b[0m                 \u001b[0;32mif\u001b[0m \u001b[0mresult\u001b[0m \u001b[0;32mis\u001b[0m \u001b[0mNotImplemented\u001b[0m\u001b[0;34m:\u001b[0m\u001b[0;34m\u001b[0m\u001b[0m\n\u001b[0;32m--> 800\u001b[0;31m                     \u001b[0;32mraise\u001b[0m \u001b[0mTypeError\u001b[0m\u001b[0;34m(\u001b[0m\u001b[0;34m\"invalid type comparison\"\u001b[0m\u001b[0;34m)\u001b[0m\u001b[0;34m\u001b[0m\u001b[0m\n\u001b[0m\u001b[1;32m    801\u001b[0m             \u001b[0;32mexcept\u001b[0m \u001b[0mAttributeError\u001b[0m\u001b[0;34m:\u001b[0m\u001b[0;34m\u001b[0m\u001b[0m\n\u001b[1;32m    802\u001b[0m                 \u001b[0mresult\u001b[0m \u001b[0;34m=\u001b[0m \u001b[0mop\u001b[0m\u001b[0;34m(\u001b[0m\u001b[0mx\u001b[0m\u001b[0;34m,\u001b[0m \u001b[0my\u001b[0m\u001b[0;34m)\u001b[0m\u001b[0;34m\u001b[0m\u001b[0m\n",
      "\u001b[0;31mTypeError\u001b[0m: invalid type comparison"
     ]
    }
   ],
   "source": [
    "df_sds0011[df_sds0011['sensor_id'] == '753']"
   ]
  },
  {
   "cell_type": "code",
   "execution_count": 48,
   "metadata": {},
   "outputs": [
    {
     "data": {
      "text/plain": [
       "<matplotlib.axes._subplots.AxesSubplot at 0x7f8f884613c8>"
      ]
     },
     "execution_count": 48,
     "metadata": {},
     "output_type": "execute_result"
    },
    {
     "data": {
      "image/png": "[encoded data removed]",
      "text/plain": [
       "<matplotlib.figure.Figure at 0x7f8f7898f2b0>"
      ]
     },
     "metadata": {},
     "output_type": "display_data"
    }
   ],
   "source": [
    "sns.regplot(x='lat_y', y='lon_y', data=df_sds0011)"
   ]
  },
  {
   "cell_type": "code",
   "execution_count": 50,
   "metadata": {},
   "outputs": [
    {
     "data": {
      "text/plain": [
       "0         2017-02-23 17:00:00 +0000 UTC\n",
       "1         2017-02-23 17:00:00 +0000 UTC\n",
       "2         2017-02-23 17:00:00 +0000 UTC\n",
       "3         2017-02-23 17:00:00 +0000 UTC\n",
       "4         2017-02-23 17:00:00 +0000 UTC\n",
       "5         2017-02-23 17:00:00 +0000 UTC\n",
       "6         2017-02-23 17:00:00 +0000 UTC\n",
       "7         2017-02-23 17:00:00 +0000 UTC\n",
       "8         2017-02-23 17:00:00 +0000 UTC\n",
       "9         2017-02-23 17:00:00 +0000 UTC\n",
       "10        2017-02-23 17:00:00 +0000 UTC\n",
       "11        2017-02-23 18:00:00 +0000 UTC\n",
       "12        2017-02-23 18:00:00 +0000 UTC\n",
       "13        2017-02-23 18:00:00 +0000 UTC\n",
       "14        2017-02-23 18:00:00 +0000 UTC\n",
       "15        2017-02-23 18:00:00 +0000 UTC\n",
       "16        2017-02-23 18:00:00 +0000 UTC\n",
       "17        2017-02-23 18:00:00 +0000 UTC\n",
       "18        2017-02-23 18:00:00 +0000 UTC\n",
       "19        2017-02-23 18:00:00 +0000 UTC\n",
       "20        2017-02-23 18:00:00 +0000 UTC\n",
       "21        2017-02-23 18:00:00 +0000 UTC\n",
       "22        2017-02-23 18:00:00 +0000 UTC\n",
       "23        2017-02-23 18:00:00 +0000 UTC\n",
       "24        2017-02-23 18:00:00 +0000 UTC\n",
       "25        2017-02-23 18:00:00 +0000 UTC\n",
       "26        2017-02-23 18:00:00 +0000 UTC\n",
       "27        2017-02-23 18:00:00 +0000 UTC\n",
       "28        2017-02-23 18:00:00 +0000 UTC\n",
       "29        2017-02-23 18:00:00 +0000 UTC\n",
       "                      ...              \n",
       "676597    2018-01-19 23:00:00 +0000 UTC\n",
       "676598    2018-01-19 23:00:00 +0000 UTC\n",
       "676599    2018-01-19 23:00:00 +0000 UTC\n",
       "676600    2018-01-19 23:00:00 +0000 UTC\n",
       "676601    2018-01-19 23:00:00 +0000 UTC\n",
       "676602    2018-01-19 23:00:00 +0000 UTC\n",
       "676603    2018-01-19 23:00:00 +0000 UTC\n",
       "676604    2018-01-19 23:00:00 +0000 UTC\n",
       "676605    2018-01-19 23:00:00 +0000 UTC\n",
       "676606    2018-01-19 23:00:00 +0000 UTC\n",
       "676607    2018-01-19 23:00:00 +0000 UTC\n",
       "676608    2018-01-19 23:00:00 +0000 UTC\n",
       "676609    2018-01-19 23:00:00 +0000 UTC\n",
       "676610    2018-01-19 23:00:00 +0000 UTC\n",
       "676611    2018-01-19 23:00:00 +0000 UTC\n",
       "676612    2018-01-19 23:00:00 +0000 UTC\n",
       "676613    2018-01-19 23:00:00 +0000 UTC\n",
       "676614    2018-01-19 23:00:00 +0000 UTC\n",
       "676615    2018-01-19 23:00:00 +0000 UTC\n",
       "676616    2018-01-19 23:00:00 +0000 UTC\n",
       "676617    2018-01-19 23:00:00 +0000 UTC\n",
       "676618    2018-01-19 23:00:00 +0000 UTC\n",
       "676619    2018-01-19 23:00:00 +0000 UTC\n",
       "676620    2018-01-19 23:00:00 +0000 UTC\n",
       "676621    2018-01-19 23:00:00 +0000 UTC\n",
       "676622    2018-01-19 23:00:00 +0000 UTC\n",
       "676623    2018-01-19 23:00:00 +0000 UTC\n",
       "676624    2018-01-19 23:00:00 +0000 UTC\n",
       "676625    2018-01-19 23:00:00 +0000 UTC\n",
       "676626    2018-01-19 23:00:00 +0000 UTC\n",
       "Name: dt_iso, Length: 676627, dtype: object"
      ]
     },
     "execution_count": 50,
     "metadata": {},
     "output_type": "execute_result"
    }
   ],
   "source": [
    "df_sds0011['dt_iso']"
   ]
  },
  {
   "cell_type": "code",
   "execution_count": 12,
   "metadata": {},
   "outputs": [
    {
     "data": {
      "text/plain": [
       "<matplotlib.axes._subplots.AxesSubplot at 0x7f9eb4572518>"
      ]
     },
     "execution_count": 12,
     "metadata": {},
     "output_type": "execute_result"
    },
    {
     "data": {
      "image/png": "[encoded data removed]",
      "text/plain": [
       "<matplotlib.figure.Figure at 0x7f9ec41a77b8>"
      ]
     },
     "metadata": {},
     "output_type": "display_data"
    }
   ],
   "source": [
    "sns.regplot(x='dt', y='P1', data=df_sds0011)"
   ]
  },
  {
   "cell_type": "code",
   "execution_count": null,
   "metadata": {
    "collapsed": true
   },
   "outputs": [],
   "source": [
    "sns.tsplot(data=df_sds0011[['dt','P1']])"
   ]
  },
  {
   "cell_type": "code",
   "execution_count": null,
   "metadata": {
    "collapsed": true
   },
   "outputs": [],
   "source": []
  }
 ],
 "metadata": {
  "kernelspec": {
   "display_name": "Python 3",
   "language": "python",
   "name": "python3"
  },
  "language_info": {
   "codemirror_mode": {
    "name": "ipython",
    "version": 3
   },
   "file_extension": ".py",
   "mimetype": "text/x-python",
   "name": "python",
   "nbconvert_exporter": "python",
   "pygments_lexer": "ipython3",
   "version": "3.6.2"
  }
 },
 "nbformat": 4,
 "nbformat_minor": 2
}
