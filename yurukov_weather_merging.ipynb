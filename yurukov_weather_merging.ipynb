{
 "cells": [
  {
   "cell_type": "code",
   "execution_count": 179,
   "metadata": {},
   "outputs": [],
   "source": [
    "import pandas as pd\n"
   ]
  },
  {
   "cell_type": "code",
   "execution_count": 180,
   "metadata": {},
   "outputs": [],
   "source": [
    "pm_10 = pd.read_csv('yurukov/sofia_airpollution.csv')"
   ]
  },
  {
   "cell_type": "markdown",
   "metadata": {},
   "source": [
    "# Seasons"
   ]
  },
  {
   "cell_type": "code",
   "execution_count": 182,
   "metadata": {},
   "outputs": [],
   "source": [
    "weather_raw = pd.read_csv(\"./data/sofia-weather-data.csv\")"
   ]
  },
  {
   "cell_type": "code",
   "execution_count": 183,
   "metadata": {},
   "outputs": [],
   "source": [
    "weather = weather_raw.dropna(axis=1, how='all')\n"
   ]
  },
  {
   "cell_type": "code",
   "execution_count": 184,
   "metadata": {},
   "outputs": [
    {
     "name": "stderr",
     "output_type": "stream",
     "text": [
      "/usr/local/lib/python3.5/dist-packages/ipykernel_launcher.py:1: SettingWithCopyWarning: \n",
      "A value is trying to be set on a copy of a slice from a DataFrame\n",
      "\n",
      "See the caveats in the documentation: http://pandas.pydata.org/pandas-docs/stable/indexing.html#indexing-view-versus-copy\n",
      "  \"\"\"Entry point for launching an IPython kernel.\n"
     ]
    }
   ],
   "source": [
    "weather.drop(axis=1,labels=['weather_icon'], inplace=True)"
   ]
  },
  {
   "cell_type": "code",
   "execution_count": 185,
   "metadata": {},
   "outputs": [
    {
     "name": "stderr",
     "output_type": "stream",
     "text": [
      "/usr/local/lib/python3.5/dist-packages/ipykernel_launcher.py:1: SettingWithCopyWarning: \n",
      "A value is trying to be set on a copy of a slice from a DataFrame.\n",
      "Try using .loc[row_indexer,col_indexer] = value instead\n",
      "\n",
      "See the caveats in the documentation: http://pandas.pydata.org/pandas-docs/stable/indexing.html#indexing-view-versus-copy\n",
      "  \"\"\"Entry point for launching an IPython kernel.\n",
      "/usr/local/lib/python3.5/dist-packages/ipykernel_launcher.py:2: SettingWithCopyWarning: \n",
      "A value is trying to be set on a copy of a slice from a DataFrame.\n",
      "Try using .loc[row_indexer,col_indexer] = value instead\n",
      "\n",
      "See the caveats in the documentation: http://pandas.pydata.org/pandas-docs/stable/indexing.html#indexing-view-versus-copy\n",
      "  \n",
      "/usr/local/lib/python3.5/dist-packages/ipykernel_launcher.py:3: SettingWithCopyWarning: \n",
      "A value is trying to be set on a copy of a slice from a DataFrame.\n",
      "Try using .loc[row_indexer,col_indexer] = value instead\n",
      "\n",
      "See the caveats in the documentation: http://pandas.pydata.org/pandas-docs/stable/indexing.html#indexing-view-versus-copy\n",
      "  This is separate from the ipykernel package so we can avoid doing imports until\n",
      "/usr/local/lib/python3.5/dist-packages/ipykernel_launcher.py:4: SettingWithCopyWarning: \n",
      "A value is trying to be set on a copy of a slice from a DataFrame.\n",
      "Try using .loc[row_indexer,col_indexer] = value instead\n",
      "\n",
      "See the caveats in the documentation: http://pandas.pydata.org/pandas-docs/stable/indexing.html#indexing-view-versus-copy\n",
      "  after removing the cwd from sys.path.\n"
     ]
    }
   ],
   "source": [
    "weather[\"temp_cent\"] = weather[\"temp\"] - 272.15\n",
    "weather[\"temp_max_cent\"] = weather[\"temp_max\"] - 272.15\n",
    "weather[\"temp_min_cent\"] = weather[\"temp_min\"] - 272.15\n",
    "weather['date'] = weather['dt_iso'].apply(lambda x : str.split(x, ' +')[0])\n",
    "# f = {'temp_cent':['min','mean', 'max'], 'pressure':['mean'], 'humidity': ['mean'], 'wind_speed': ['min', 'mean', 'max']}\n",
    "\n",
    "processed_weather = weather.groupby('date', as_index=False).mean()"
   ]
  },
  {
   "cell_type": "code",
   "execution_count": 186,
   "metadata": {},
   "outputs": [],
   "source": [
    "dates = pd.DataFrame(weather['date'].unique(), columns=[\"date\"])"
   ]
  },
  {
   "cell_type": "code",
   "execution_count": 188,
   "metadata": {},
   "outputs": [],
   "source": [
    "# weather = weather[weather['aaa'] != 1]\n",
    "pm_10 = pm_10[pm_10['inv_PM10'] != 1]\n",
    "pm_10 = pm_10[pm_10['inv_NO2'] != 1]"
   ]
  },
  {
   "cell_type": "code",
   "execution_count": 193,
   "metadata": {},
   "outputs": [],
   "source": [
    "pm_10['timestamp'] = pm_10['timestamp'].astype(\"str\")\n",
    "processed_weather['date'] = processed_weather['date'].astype(\"str\")"
   ]
  },
  {
   "cell_type": "code",
   "execution_count": 196,
   "metadata": {},
   "outputs": [],
   "source": [
    "merged_with_date = pd.merge(processed_weather, pm_10, left_on='date', right_on=\"timestamp\")"
   ]
  },
  {
   "cell_type": "code",
   "execution_count": 198,
   "metadata": {},
   "outputs": [],
   "source": [
    "merged_with_date = merged_with_date.drop(axis=1, labels=['temp', 'dt', 'city_id', 'wind_deg', 'rain_1h', 'rain_3h',\n",
    "       'rain_today', 'weather_id', 'inv_PM10', 'inv_NO2', 'NO', 'inv_NO', 'C6H6', 'inv_C6H6', 'CO',\n",
    "       'inv_CO', 'O3', 'inv_O3', 'SO2', 'inv_SO2', 'HU', 'inv_HU', 'AP',\n",
    "       'inv_AP', 'WND', 'inv_WND', 'SUN', 'inv_SUN', 'TMP', 'inv_TMP'])"
   ]
  },
  {
   "cell_type": "code",
   "execution_count": 201,
   "metadata": {},
   "outputs": [
    {
     "name": "stdout",
     "output_type": "stream",
     "text": [
      "           temp_min      temp_max      pressure      humidity    wind_speed  \\\n",
      "count  92791.000000  92791.000000  92791.000000  92791.000000  92791.000000   \n",
      "mean     284.063221    284.063221   1007.293746     74.730076      2.599250   \n",
      "std        9.933073      9.933073     27.712935     20.465179      2.058892   \n",
      "min      252.150000    252.150000    920.000000     12.000000      0.000000   \n",
      "25%      277.150000    277.150000   1011.000000     60.000000      1.000000   \n",
      "50%      284.150000    284.150000   1016.000000     80.000000      2.000000   \n",
      "75%      291.150000    291.150000   1021.000000     92.000000      4.000000   \n",
      "max      312.150000    312.150000   1040.000000    100.000000     14.000000   \n",
      "\n",
      "       rain_24h  snow_3h    clouds_all     temp_cent  temp_max_cent  \\\n",
      "count       0.0      0.0  92791.000000  92791.000000   92791.000000   \n",
      "mean        NaN      NaN     37.339182     11.913221      11.913221   \n",
      "std         NaN      NaN     36.741316      9.933073       9.933073   \n",
      "min         NaN      NaN      0.000000    -20.000000     -20.000000   \n",
      "25%         NaN      NaN      0.000000      5.000000       5.000000   \n",
      "50%         NaN      NaN     20.000000     12.000000      12.000000   \n",
      "75%         NaN      NaN     75.000000     19.000000      19.000000   \n",
      "max         NaN      NaN    100.000000     40.000000      40.000000   \n",
      "\n",
      "       temp_min_cent          PM10           NO2  temp_shifted  \\\n",
      "count   92791.000000  92791.000000  92783.000000  92790.000000   \n",
      "mean       11.913221     34.490567     25.375480     11.913338   \n",
      "std         9.933073     42.838207     25.481716      9.933062   \n",
      "min       -20.000000    -55.000000    -75.000000    -20.000000   \n",
      "25%         5.000000     13.000000      7.000000      5.000000   \n",
      "50%        12.000000     23.000000     17.000000     12.000000   \n",
      "75%        19.000000     39.000000     36.000000     19.000000   \n",
      "max        40.000000    933.000000    400.000000     40.000000   \n",
      "\n",
      "       temp_min_shifted  temp_max_shifted  \n",
      "count      92790.000000      92790.000000  \n",
      "mean         284.063338        284.063338  \n",
      "std            9.933062          9.933062  \n",
      "min          252.150000        252.150000  \n",
      "25%          277.150000        277.150000  \n",
      "50%          284.150000        284.150000  \n",
      "75%          291.150000        291.150000  \n",
      "max          312.150000        312.150000  \n"
     ]
    }
   ],
   "source": [
    "#print(merged_with_date.columns)\n",
    "#print(merged_with_date.head())\n",
    "print(merged_with_date.describe())"
   ]
  },
  {
   "cell_type": "markdown",
   "metadata": {},
   "source": [
    "# Shift weather one day forward - for predictions"
   ]
  },
  {
   "cell_type": "code",
   "execution_count": 200,
   "metadata": {},
   "outputs": [],
   "source": [
    "merged_with_date[\"temp_shifted\"] = merged_with_date.temp_cent.shift(1)\n",
    "merged_with_date[\"temp_min_shifted\"] = merged_with_date.temp_min.shift(1)\n",
    "merged_with_date[\"temp_max_shifted\"] = merged_with_date.temp_max.shift(1)\n",
    "\n",
    "#TODO"
   ]
  }
 ],
 "metadata": {
  "kernelspec": {
   "display_name": "Python 3",
   "language": "python",
   "name": "python3"
  },
  "language_info": {
   "codemirror_mode": {
    "name": "ipython",
    "version": 3
   },
   "file_extension": ".py",
   "mimetype": "text/x-python",
   "name": "python",
   "nbconvert_exporter": "python",
   "pygments_lexer": "ipython3",
   "version": "3.5.2"
  }
 },
 "nbformat": 4,
 "nbformat_minor": 2
}
