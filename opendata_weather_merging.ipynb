{
 "cells": [
  {
   "cell_type": "code",
   "execution_count": 1,
   "metadata": {
    "collapsed": true,
    "deletable": true,
    "editable": true
   },
   "outputs": [],
   "source": [
    "import pandas as pd\n",
    "import seaborn as sb\n",
    "\n",
    "%matplotlib inline"
   ]
  },
  {
   "cell_type": "code",
   "execution_count": 2,
   "metadata": {
    "collapsed": true,
    "deletable": true,
    "editable": true
   },
   "outputs": [],
   "source": [
    "pm_10 = pd.read_csv('opendata/pm10--2011-2015.csv')\n",
    "pm_25 = pd.read_csv('opendata/pm-2-5--2011-2015.csv')\n",
    "no2 = pd.read_csv('opendata/no2-sofia-2011-2015.csv')"
   ]
  },
  {
   "cell_type": "markdown",
   "metadata": {
    "deletable": true,
    "editable": true
   },
   "source": [
    "# Data cleaning"
   ]
  },
  {
   "cell_type": "code",
   "execution_count": 3,
   "metadata": {
    "collapsed": false,
    "deletable": true,
    "editable": true
   },
   "outputs": [],
   "source": [
    "pm_10[pm_10[\"Копитото\"] < 0] = 0 "
   ]
  },
  {
   "cell_type": "code",
   "execution_count": 4,
   "metadata": {
    "collapsed": true,
    "deletable": true,
    "editable": true
   },
   "outputs": [],
   "source": [
    "no2[no2[\"Копитото\"] < 0] = 0\n",
    "no2[no2[\"Хиподрума\"] < 0] = 0"
   ]
  },
  {
   "cell_type": "code",
   "execution_count": 5,
   "metadata": {
    "collapsed": false,
    "deletable": true,
    "editable": true
   },
   "outputs": [],
   "source": [
    "#Data aggregation\n",
    "import math\n",
    "areas = [\"Дружба\", \"Павлово\", \"Младост\", \"Надежда\", \"Орлов мост\", \"Хиподрума\", \"Копитото\"]\n",
    "\n",
    "pm10_dict = pm_10.to_dict(\"records\")\n",
    "no2_dict = no2.to_dict(\"records\")\n",
    "pm25_dict = pm_25.to_dict(\"records\")\n",
    "\n",
    "data_aggregated = []\n",
    "\n",
    "for d in pm10_dict:\n",
    "    for area in areas:\n",
    "        if math.isnan(d[area]):\n",
    "            continue\n",
    "        data_aggregated.append([area, d[\"Показател\"], d[area], d[\"Дата\"]])\n",
    "        \n",
    "for d in no2_dict:\n",
    "    for area in areas:\n",
    "        if math.isnan(d[area]) or d[\"Показател\"] == 0:\n",
    "            continue\n",
    "        data_aggregated.append([area, d[\"Показател\"], d[area], d[\"Дата\"]])\n",
    "\n",
    "for d in pm25_dict:\n",
    "    if math.isnan(d[\"средноденонощна  стойност\"]):\n",
    "        continue\n",
    "    else:\n",
    "        data_aggregated.append([\"Хиподрума\", d[\"Показател\"], d[\"средноденонощна  стойност\"], d[\"Дата\"]])"
   ]
  },
  {
   "cell_type": "code",
   "execution_count": 6,
   "metadata": {
    "collapsed": true,
    "deletable": true,
    "editable": true
   },
   "outputs": [],
   "source": [
    "pd_aggregated = pd.DataFrame(data_aggregated, columns=['location', 'type', 'value', 'date'])"
   ]
  },
  {
   "cell_type": "markdown",
   "metadata": {
    "deletable": true,
    "editable": true
   },
   "source": [
    "# Seasons"
   ]
  },
  {
   "cell_type": "code",
   "execution_count": 7,
   "metadata": {
    "collapsed": false,
    "deletable": true,
    "editable": true
   },
   "outputs": [],
   "source": [
    "from datetime import date, datetime\n",
    "\n",
    "\n",
    "Y = 2000 # dummy leap year to allow input X-02-29 (leap day)\n",
    "seasons = [('winter', (datetime(Y,  1,  1),  datetime(Y,  3, 20))),\n",
    "           ('spring', (datetime(Y,  3, 21),  datetime(Y,  6, 20))),\n",
    "           ('summer', (datetime(Y,  6, 21),  datetime(Y,  9, 22))),\n",
    "           ('autumn', (datetime(Y,  9, 23),  datetime(Y, 12, 20))),\n",
    "           ('winter', (datetime(Y, 12, 21),  datetime(Y, 12, 31)))]\n",
    "\n",
    "def get_season(now):\n",
    "    if now == 0:\n",
    "        return 'autumn'\n",
    "    datetime_object = datetime.strptime(now, '%d.%m.%Y')\n",
    "\n",
    "    datetime_object = datetime_object.replace(year=Y)\n",
    "    return next(season for season, (start, end) in seasons\n",
    "                if start <= datetime_object <= end)\n",
    "\n",
    "pd_aggregated[\"season\"] = pd_aggregated['date'].apply(get_season)"
   ]
  },
  {
   "cell_type": "code",
   "execution_count": 8,
   "metadata": {
    "collapsed": true,
    "deletable": true,
    "editable": true
   },
   "outputs": [],
   "source": [
    "weather_raw = pd.read_csv(\"./data/sofia-weather-data.csv\")"
   ]
  },
  {
   "cell_type": "code",
   "execution_count": 9,
   "metadata": {
    "collapsed": false,
    "deletable": true,
    "editable": true
   },
   "outputs": [],
   "source": [
    "weather = weather_raw.dropna(axis=1, how='all')"
   ]
  },
  {
   "cell_type": "code",
   "execution_count": 10,
   "metadata": {
    "collapsed": false,
    "deletable": true,
    "editable": true
   },
   "outputs": [
    {
     "name": "stderr",
     "output_type": "stream",
     "text": [
      "/Library/Frameworks/Python.framework/Versions/3.6/lib/python3.6/site-packages/ipykernel/__main__.py:1: SettingWithCopyWarning: \n",
      "A value is trying to be set on a copy of a slice from a DataFrame\n",
      "\n",
      "See the caveats in the documentation: http://pandas.pydata.org/pandas-docs/stable/indexing.html#indexing-view-versus-copy\n",
      "  if __name__ == '__main__':\n"
     ]
    }
   ],
   "source": [
    "weather.drop(axis=1,labels=['weather_icon'], inplace=True)"
   ]
  },
  {
   "cell_type": "code",
   "execution_count": 11,
   "metadata": {
    "collapsed": false,
    "deletable": true,
    "editable": true
   },
   "outputs": [
    {
     "name": "stderr",
     "output_type": "stream",
     "text": [
      "/Library/Frameworks/Python.framework/Versions/3.6/lib/python3.6/site-packages/ipykernel/__main__.py:1: SettingWithCopyWarning: \n",
      "A value is trying to be set on a copy of a slice from a DataFrame.\n",
      "Try using .loc[row_indexer,col_indexer] = value instead\n",
      "\n",
      "See the caveats in the documentation: http://pandas.pydata.org/pandas-docs/stable/indexing.html#indexing-view-versus-copy\n",
      "  if __name__ == '__main__':\n",
      "/Library/Frameworks/Python.framework/Versions/3.6/lib/python3.6/site-packages/ipykernel/__main__.py:2: SettingWithCopyWarning: \n",
      "A value is trying to be set on a copy of a slice from a DataFrame.\n",
      "Try using .loc[row_indexer,col_indexer] = value instead\n",
      "\n",
      "See the caveats in the documentation: http://pandas.pydata.org/pandas-docs/stable/indexing.html#indexing-view-versus-copy\n",
      "  from ipykernel import kernelapp as app\n"
     ]
    }
   ],
   "source": [
    "weather[\"temp_cent\"] = weather[\"temp\"] - 272.15\n",
    "weather[\"temp_max_cent\"] = weather[\"temp_max\"] - 272.15\n",
    "weather[\"temp_min_cent\"] = weather[\"temp_min\"] - 272.15\n",
    "weather['date'] = weather['dt_iso'].apply(lambda x : str.split(x)[0])\n",
    "# f = {'temp_cent':['min','mean', 'max'], 'pressure':['mean'], 'humidity': ['mean'], 'wind_speed': ['min', 'mean', 'max']}\n",
    "\n",
    "processed_weather = weather.groupby('date', as_index=False).mean()"
   ]
  },
  {
   "cell_type": "code",
   "execution_count": 12,
   "metadata": {
    "collapsed": false,
    "deletable": true,
    "editable": true
   },
   "outputs": [],
   "source": [
    "dates = pd.DataFrame(weather['date'].unique(), columns=[\"date\"])"
   ]
  },
  {
   "cell_type": "code",
   "execution_count": 13,
   "metadata": {
    "collapsed": false,
    "deletable": true,
    "editable": true
   },
   "outputs": [],
   "source": [
    "processed_weather['date_obj'] = processed_weather['date'].apply(lambda x: datetime.strptime(x, '%Y-%m-%d'))\n",
    "processed_weather['date_format'] = processed_weather['date_obj'].apply(lambda x:datetime.strftime(x, '%d.%m.%Y'))\n"
   ]
  },
  {
   "cell_type": "code",
   "execution_count": 19,
   "metadata": {
    "collapsed": false,
    "deletable": true,
    "editable": true
   },
   "outputs": [],
   "source": [
    "merged_with_date = pd.merge(processed_weather, pd_aggregated, left_on='date_format', right_on=\"date\")"
   ]
  },
  {
   "cell_type": "code",
   "execution_count": 20,
   "metadata": {
    "collapsed": false,
    "deletable": true,
    "editable": true
   },
   "outputs": [],
   "source": [
    "merged_with_date = merged_with_date.drop(axis=1, labels=['date_x', 'temp', 'dt', 'city_id', 'wind_deg', 'rain_1h', 'rain_3h',\n",
    "       'rain_today', 'weather_id', 'date_obj', 'date_y'])"
   ]
  },
  {
   "cell_type": "code",
   "execution_count": 21,
   "metadata": {
    "collapsed": false,
    "deletable": true,
    "editable": true
   },
   "outputs": [
    {
     "name": "stdout",
     "output_type": "stream",
     "text": [
      "Index(['temp_min', 'temp_max', 'pressure', 'humidity', 'wind_speed',\n",
      "       'rain_24h', 'snow_3h', 'clouds_all', 'temp_cent', 'date_format',\n",
      "       'location', 'type', 'value', 'season'],\n",
      "      dtype='object')\n",
      "   temp_min  temp_max  pressure  humidity  wind_speed  rain_24h  snow_3h  \\\n",
      "0     296.3    303.15    1021.0      20.0         6.0       NaN      NaN   \n",
      "1     296.3    303.15    1021.0      20.0         6.0       NaN      NaN   \n",
      "2     296.3    303.15    1021.0      20.0         6.0       NaN      NaN   \n",
      "3     296.3    303.15    1021.0      20.0         6.0       NaN      NaN   \n",
      "4     296.3    303.15    1021.0      20.0         6.0       NaN      NaN   \n",
      "\n",
      "   clouds_all  temp_cent date_format    location  type      value  season  \n",
      "0         0.0       31.0  01.10.2012      Дружба  PM10  30.525970  autumn  \n",
      "1         0.0       31.0  01.10.2012     Павлово  PM10  39.665600  autumn  \n",
      "2         0.0       31.0  01.10.2012     Надежда  PM10  33.634472  autumn  \n",
      "3         0.0       31.0  01.10.2012  Орлов мост  PM10  43.143379  autumn  \n",
      "4         0.0       31.0  01.10.2012   Хиподрума  PM10  40.203060  autumn  \n",
      "           temp_min      temp_max      pressure      humidity    wind_speed  \\\n",
      "count  10804.000000  10804.000000  10804.000000  10804.000000  10804.000000   \n",
      "mean     283.733007    285.451904   1009.666988     70.674906      2.732085   \n",
      "std        8.947387      8.189562     21.176176     14.834401      1.420796   \n",
      "min      261.065714    265.665714    903.500000      0.000000      0.000000   \n",
      "25%      276.407727    278.816667   1009.041667     60.210526      1.772727   \n",
      "50%      283.992857    285.853333   1015.000000     71.975000      2.434783   \n",
      "75%      291.315000    292.455833   1019.600000     82.692308      3.388889   \n",
      "max      300.750000    303.150000   1038.416667     99.363636     11.210526   \n",
      "\n",
      "        rain_24h    snow_3h    clouds_all     temp_cent         value  \n",
      "count  65.000000  52.000000  10804.000000  10804.000000  10804.000000  \n",
      "mean    0.558800   0.018382     34.421423     12.858312     32.873840  \n",
      "std     0.799697   0.032150     29.310068      8.412455     34.419220  \n",
      "min     0.000000   0.000000      0.000000     -9.421053      0.000000  \n",
      "25%     0.000000   0.000000      5.882353      6.041667     15.180630  \n",
      "50%     0.000000   0.000000     30.416667     13.370000     25.704014  \n",
      "75%     0.762000   0.018382     57.708333     20.069167     39.434752  \n",
      "max     2.032000   0.073529     96.500000     31.000000    466.286438  \n"
     ]
    }
   ],
   "source": [
    "print(merged_with_date.columns)\n",
    "print(merged_with_date.head())\n",
    "print(merged_with_date.describe())"
   ]
  },
  {
   "cell_type": "markdown",
   "metadata": {
    "deletable": true,
    "editable": true
   },
   "source": [
    "# Shift weather one day forwars - for predictions"
   ]
  },
  {
   "cell_type": "code",
   "execution_count": 17,
   "metadata": {
    "collapsed": false,
    "deletable": true,
    "editable": true
   },
   "outputs": [],
   "source": [
    "merged_with_date[\"temp_shifted\"] = merged_with_date.temp_cent.shift(1)\n",
    "merged_with_date[\"temp_min_shifted\"] = merged_with_date.temp_min.shift(1)\n",
    "merged_with_date[\"temp_max_shifted\"] = merged_with_date.temp_max.shift(1)\n",
    "\n",
    "#TODO"
   ]
  },
  {
   "cell_type": "code",
   "execution_count": null,
   "metadata": {
    "collapsed": true,
    "deletable": true,
    "editable": true
   },
   "outputs": [],
   "source": []
  }
 ],
 "metadata": {
  "kernelspec": {
   "display_name": "Python 3",
   "language": "python",
   "name": "python3"
  },
  "language_info": {
   "codemirror_mode": {
    "name": "ipython",
    "version": 3
   },
   "file_extension": ".py",
   "mimetype": "text/x-python",
   "name": "python",
   "nbconvert_exporter": "python",
   "pygments_lexer": "ipython3",
   "version": "3.6.1"
  }
 },
 "nbformat": 4,
 "nbformat_minor": 2
}
