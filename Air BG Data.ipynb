{
 "cells": [
  {
   "cell_type": "code",
   "execution_count": 1,
   "metadata": {},
   "outputs": [],
   "source": [
    "import pandas as pd\n",
    "from os import listdir\n",
    "import seaborn as sns  # for nice plot styles (optional)"
   ]
  },
  {
   "cell_type": "code",
   "execution_count": 2,
   "metadata": {},
   "outputs": [],
   "source": [
    "data_folder = \"/Users/pgencheva/scrapped_data/\"\n",
    "folder = \"/Users/pgencheva/Downloads/sensor_data/HACKATHON_DATA/git/air-pollution/data/\""
   ]
  },
  {
   "cell_type": "code",
   "execution_count": 3,
   "metadata": {},
   "outputs": [],
   "source": [
    "output_file_sds = open(folder+'all_sds011.csv', \"w\")\n",
    "output_file_dht = open(folder+'all_dht22.csv', \"w\")\n",
    "output_file_ppd = open(folder+'all_ppd42ns.csv', \"w\")\n",
    "\n",
    "\n",
    "for f in listdir(data_folder):\n",
    "    if \"sds011\" in f:\n",
    "        output_file_sds.write(open(data_folder+f).read()+\"\\n\")\n",
    "    elif \"dht22\" in f:\n",
    "        output_file_dht.write(open(data_folder+f).read()+\"\\n\")\n",
    "    elif \"ppd42ns\" in f:\n",
    "        output_file_ppd.write(open(data_folder+f).read()+\"\\n\")\n",
    "    else:\n",
    "        print(\"well\")"
   ]
  },
  {
   "cell_type": "code",
   "execution_count": 4,
   "metadata": {},
   "outputs": [
    {
     "name": "stdout",
     "output_type": "stream",
     "text": [
      "\n",
      "\n"
     ]
    }
   ],
   "source": [
    "print(open(folder+'all_ppd42ns.csv').read()[:100])\n",
    "print(open(folder+'all_dht22.csv').read()[:100])"
   ]
  },
  {
   "cell_type": "code",
   "execution_count": 5,
   "metadata": {},
   "outputs": [],
   "source": [
    "df_sds0011 = pd.read_csv(folder+'all_sds011.csv', sep=';')"
   ]
  },
  {
   "cell_type": "code",
   "execution_count": 6,
   "metadata": {},
   "outputs": [],
   "source": [
    "df_sds0011 = df_sds0011[df_sds0011['lat']!='lat']"
   ]
  },
  {
   "cell_type": "code",
   "execution_count": 7,
   "metadata": {},
   "outputs": [
    {
     "data": {
      "text/plain": [
       "165980772"
      ]
     },
     "execution_count": 7,
     "metadata": {},
     "output_type": "execute_result"
    }
   ],
   "source": [
    "df_sds0011.size"
   ]
  },
  {
   "cell_type": "code",
   "execution_count": 8,
   "metadata": {},
   "outputs": [],
   "source": [
    "df_sds0011['lat'] = df_sds0011['lat'].astype('float')\n",
    "df_sds0011['lon'] = df_sds0011['lon'].astype('float')"
   ]
  },
  {
   "cell_type": "code",
   "execution_count": 9,
   "metadata": {},
   "outputs": [
    {
     "data": {
      "text/html": [
       "<div>\n",
       "<style scoped>\n",
       "    .dataframe tbody tr th:only-of-type {\n",
       "        vertical-align: middle;\n",
       "    }\n",
       "\n",
       "    .dataframe tbody tr th {\n",
       "        vertical-align: top;\n",
       "    }\n",
       "\n",
       "    .dataframe thead th {\n",
       "        text-align: right;\n",
       "    }\n",
       "</style>\n",
       "<table border=\"1\" class=\"dataframe\">\n",
       "  <thead>\n",
       "    <tr style=\"text-align: right;\">\n",
       "      <th></th>\n",
       "      <th>sensor_id</th>\n",
       "      <th>sensor_type</th>\n",
       "      <th>location</th>\n",
       "      <th>lat</th>\n",
       "      <th>lon</th>\n",
       "      <th>timestamp</th>\n",
       "      <th>P1</th>\n",
       "      <th>durP1</th>\n",
       "      <th>ratioP1</th>\n",
       "      <th>P2</th>\n",
       "      <th>durP2</th>\n",
       "      <th>ratioP2</th>\n",
       "    </tr>\n",
       "  </thead>\n",
       "  <tbody>\n",
       "    <tr>\n",
       "      <th>0</th>\n",
       "      <td>753</td>\n",
       "      <td>SDS011</td>\n",
       "      <td>361</td>\n",
       "      <td>42.626</td>\n",
       "      <td>23.378</td>\n",
       "      <td>2017-02-23T17:50:05</td>\n",
       "      <td>49.22</td>\n",
       "      <td>NaN</td>\n",
       "      <td>NaN</td>\n",
       "      <td>34.25</td>\n",
       "      <td>NaN</td>\n",
       "      <td>NaN</td>\n",
       "    </tr>\n",
       "    <tr>\n",
       "      <th>1</th>\n",
       "      <td>753</td>\n",
       "      <td>SDS011</td>\n",
       "      <td>361</td>\n",
       "      <td>42.626</td>\n",
       "      <td>23.378</td>\n",
       "      <td>2017-02-23T17:51:03</td>\n",
       "      <td>44.55</td>\n",
       "      <td>NaN</td>\n",
       "      <td>NaN</td>\n",
       "      <td>33.57</td>\n",
       "      <td>NaN</td>\n",
       "      <td>NaN</td>\n",
       "    </tr>\n",
       "    <tr>\n",
       "      <th>2</th>\n",
       "      <td>753</td>\n",
       "      <td>SDS011</td>\n",
       "      <td>361</td>\n",
       "      <td>42.626</td>\n",
       "      <td>23.378</td>\n",
       "      <td>2017-02-23T17:52:02</td>\n",
       "      <td>42.03</td>\n",
       "      <td>NaN</td>\n",
       "      <td>NaN</td>\n",
       "      <td>30.17</td>\n",
       "      <td>NaN</td>\n",
       "      <td>NaN</td>\n",
       "    </tr>\n",
       "    <tr>\n",
       "      <th>3</th>\n",
       "      <td>753</td>\n",
       "      <td>SDS011</td>\n",
       "      <td>361</td>\n",
       "      <td>42.626</td>\n",
       "      <td>23.378</td>\n",
       "      <td>2017-02-23T17:53:00</td>\n",
       "      <td>44.67</td>\n",
       "      <td>NaN</td>\n",
       "      <td>NaN</td>\n",
       "      <td>29.73</td>\n",
       "      <td>NaN</td>\n",
       "      <td>NaN</td>\n",
       "    </tr>\n",
       "    <tr>\n",
       "      <th>4</th>\n",
       "      <td>753</td>\n",
       "      <td>SDS011</td>\n",
       "      <td>361</td>\n",
       "      <td>42.626</td>\n",
       "      <td>23.378</td>\n",
       "      <td>2017-02-23T17:53:59</td>\n",
       "      <td>56.25</td>\n",
       "      <td>NaN</td>\n",
       "      <td>NaN</td>\n",
       "      <td>32.93</td>\n",
       "      <td>NaN</td>\n",
       "      <td>NaN</td>\n",
       "    </tr>\n",
       "  </tbody>\n",
       "</table>\n",
       "</div>"
      ],
      "text/plain": [
       "  sensor_id sensor_type location     lat     lon            timestamp     P1  \\\n",
       "0       753      SDS011      361  42.626  23.378  2017-02-23T17:50:05  49.22   \n",
       "1       753      SDS011      361  42.626  23.378  2017-02-23T17:51:03  44.55   \n",
       "2       753      SDS011      361  42.626  23.378  2017-02-23T17:52:02  42.03   \n",
       "3       753      SDS011      361  42.626  23.378  2017-02-23T17:53:00  44.67   \n",
       "4       753      SDS011      361  42.626  23.378  2017-02-23T17:53:59  56.25   \n",
       "\n",
       "  durP1 ratioP1     P2 durP2 ratioP2  \n",
       "0   NaN     NaN  34.25   NaN     NaN  \n",
       "1   NaN     NaN  33.57   NaN     NaN  \n",
       "2   NaN     NaN  30.17   NaN     NaN  \n",
       "3   NaN     NaN  29.73   NaN     NaN  \n",
       "4   NaN     NaN  32.93   NaN     NaN  "
      ]
     },
     "execution_count": 9,
     "metadata": {},
     "output_type": "execute_result"
    }
   ],
   "source": [
    "df_sds0011.head()"
   ]
  },
  {
   "cell_type": "code",
   "execution_count": 10,
   "metadata": {},
   "outputs": [
    {
     "data": {
      "text/plain": [
       "(192, array(['753', '787', '797', '1018', '1020', '1022', '1100', '1102',\n",
       "        '1114', '1260', '1304', '1116', '1763', '1769', '1775', '1471',\n",
       "        '1845', '1925', '1961', '2035', '2037', '2039', '2223', '2263',\n",
       "        '2265', '2291', '2322', '2442', '3091', '3095', '3101', '3427',\n",
       "        '3431', '3435', '3473', '3557', '3619', '3633', '3641', '3759',\n",
       "        '3831', '3835', '3981', '4357', '4466', '4468', '4470', '4472',\n",
       "        '4476', '4478', '4557', '4573', '4607', '4618', '4624', '4798',\n",
       "        '4800', '5028', '5123', '4660', '5295', '5297', '5299', '5325',\n",
       "        '5353', '5377', '5379', '5471', '5473', '5499', '5513', '5527',\n",
       "        '4616', '5545', '5549', '5563', '5662', '5690', '5708', '5776',\n",
       "        '5807', '5878', '5865', '5916', '5951', '6023', '6025', '6029',\n",
       "        '6035', '6037', '6039', '6041', '6043', '6087', '6095', '6127',\n",
       "        '6131', '6133', '6135', '6139', '6189', '6191', '6195', '6197',\n",
       "        '6187', '6203', '6223', '6227', '6342', '6344', '6346', '6348',\n",
       "        '6350', '6384', '6388', '6392', '6394', '6418', '4178', '6422',\n",
       "        '6424', '6430', '6432', '6434', '6463', '6465', '6525', '6527',\n",
       "        '6529', '6533', '6586', '6628', '6673', '6675', '6679', '6681',\n",
       "        '6693', '6697', '6731', '6781', '6805', '6832', '6850', '6868',\n",
       "        '6898', '6906', '6931', '6933', '6937', '7021', '7110', '7181',\n",
       "        '7251', '7334', '7336', '7450', '7473', '7481', '7581', '7611',\n",
       "        '7641', '7671', '7723', '7745', '7751', '7767', '7769', '7771',\n",
       "        '7775', '7833', '7835', '7837', '7839', '7917', '7585', '7929',\n",
       "        '7963', '7987', '8046', '8058', '8074', '8076', '8084', '8279',\n",
       "        '8291', '8297', '8369', '8648', '8673', '8702', '8753', '8755'],\n",
       "       dtype=object))"
      ]
     },
     "execution_count": 10,
     "metadata": {},
     "output_type": "execute_result"
    }
   ],
   "source": [
    "df_sds0011['sensor_id'].nunique(), df_sds0011['sensor_id'].unique()"
   ]
  },
  {
   "cell_type": "code",
   "execution_count": 11,
   "metadata": {},
   "outputs": [],
   "source": [
    "df_sds0011['month'] = df_sds0011.apply(lambda x: x['timestamp'][:7], axis=1)"
   ]
  },
  {
   "cell_type": "code",
   "execution_count": 12,
   "metadata": {},
   "outputs": [
    {
     "data": {
      "text/html": [
       "<div>\n",
       "<style scoped>\n",
       "    .dataframe tbody tr th:only-of-type {\n",
       "        vertical-align: middle;\n",
       "    }\n",
       "\n",
       "    .dataframe tbody tr th {\n",
       "        vertical-align: top;\n",
       "    }\n",
       "\n",
       "    .dataframe thead th {\n",
       "        text-align: right;\n",
       "    }\n",
       "</style>\n",
       "<table border=\"1\" class=\"dataframe\">\n",
       "  <thead>\n",
       "    <tr style=\"text-align: right;\">\n",
       "      <th></th>\n",
       "      <th>sensor_id</th>\n",
       "      <th>sensor_type</th>\n",
       "      <th>location</th>\n",
       "      <th>lat</th>\n",
       "      <th>lon</th>\n",
       "      <th>timestamp</th>\n",
       "      <th>P1</th>\n",
       "      <th>durP1</th>\n",
       "      <th>ratioP1</th>\n",
       "      <th>P2</th>\n",
       "      <th>durP2</th>\n",
       "      <th>ratioP2</th>\n",
       "      <th>month</th>\n",
       "    </tr>\n",
       "  </thead>\n",
       "  <tbody>\n",
       "    <tr>\n",
       "      <th>0</th>\n",
       "      <td>753</td>\n",
       "      <td>SDS011</td>\n",
       "      <td>361</td>\n",
       "      <td>42.626</td>\n",
       "      <td>23.378</td>\n",
       "      <td>2017-02-23T17:50:05</td>\n",
       "      <td>49.22</td>\n",
       "      <td>NaN</td>\n",
       "      <td>NaN</td>\n",
       "      <td>34.25</td>\n",
       "      <td>NaN</td>\n",
       "      <td>NaN</td>\n",
       "      <td>2017-02</td>\n",
       "    </tr>\n",
       "    <tr>\n",
       "      <th>1</th>\n",
       "      <td>753</td>\n",
       "      <td>SDS011</td>\n",
       "      <td>361</td>\n",
       "      <td>42.626</td>\n",
       "      <td>23.378</td>\n",
       "      <td>2017-02-23T17:51:03</td>\n",
       "      <td>44.55</td>\n",
       "      <td>NaN</td>\n",
       "      <td>NaN</td>\n",
       "      <td>33.57</td>\n",
       "      <td>NaN</td>\n",
       "      <td>NaN</td>\n",
       "      <td>2017-02</td>\n",
       "    </tr>\n",
       "    <tr>\n",
       "      <th>2</th>\n",
       "      <td>753</td>\n",
       "      <td>SDS011</td>\n",
       "      <td>361</td>\n",
       "      <td>42.626</td>\n",
       "      <td>23.378</td>\n",
       "      <td>2017-02-23T17:52:02</td>\n",
       "      <td>42.03</td>\n",
       "      <td>NaN</td>\n",
       "      <td>NaN</td>\n",
       "      <td>30.17</td>\n",
       "      <td>NaN</td>\n",
       "      <td>NaN</td>\n",
       "      <td>2017-02</td>\n",
       "    </tr>\n",
       "    <tr>\n",
       "      <th>3</th>\n",
       "      <td>753</td>\n",
       "      <td>SDS011</td>\n",
       "      <td>361</td>\n",
       "      <td>42.626</td>\n",
       "      <td>23.378</td>\n",
       "      <td>2017-02-23T17:53:00</td>\n",
       "      <td>44.67</td>\n",
       "      <td>NaN</td>\n",
       "      <td>NaN</td>\n",
       "      <td>29.73</td>\n",
       "      <td>NaN</td>\n",
       "      <td>NaN</td>\n",
       "      <td>2017-02</td>\n",
       "    </tr>\n",
       "    <tr>\n",
       "      <th>4</th>\n",
       "      <td>753</td>\n",
       "      <td>SDS011</td>\n",
       "      <td>361</td>\n",
       "      <td>42.626</td>\n",
       "      <td>23.378</td>\n",
       "      <td>2017-02-23T17:53:59</td>\n",
       "      <td>56.25</td>\n",
       "      <td>NaN</td>\n",
       "      <td>NaN</td>\n",
       "      <td>32.93</td>\n",
       "      <td>NaN</td>\n",
       "      <td>NaN</td>\n",
       "      <td>2017-02</td>\n",
       "    </tr>\n",
       "  </tbody>\n",
       "</table>\n",
       "</div>"
      ],
      "text/plain": [
       "  sensor_id sensor_type location     lat     lon            timestamp     P1  \\\n",
       "0       753      SDS011      361  42.626  23.378  2017-02-23T17:50:05  49.22   \n",
       "1       753      SDS011      361  42.626  23.378  2017-02-23T17:51:03  44.55   \n",
       "2       753      SDS011      361  42.626  23.378  2017-02-23T17:52:02  42.03   \n",
       "3       753      SDS011      361  42.626  23.378  2017-02-23T17:53:00  44.67   \n",
       "4       753      SDS011      361  42.626  23.378  2017-02-23T17:53:59  56.25   \n",
       "\n",
       "  durP1 ratioP1     P2 durP2 ratioP2    month  \n",
       "0   NaN     NaN  34.25   NaN     NaN  2017-02  \n",
       "1   NaN     NaN  33.57   NaN     NaN  2017-02  \n",
       "2   NaN     NaN  30.17   NaN     NaN  2017-02  \n",
       "3   NaN     NaN  29.73   NaN     NaN  2017-02  \n",
       "4   NaN     NaN  32.93   NaN     NaN  2017-02  "
      ]
     },
     "execution_count": 12,
     "metadata": {},
     "output_type": "execute_result"
    }
   ],
   "source": [
    "df_sds0011.head()"
   ]
  },
  {
   "cell_type": "markdown",
   "metadata": {},
   "source": [
    "# Get count of sensors per month"
   ]
  },
  {
   "cell_type": "code",
   "execution_count": 18,
   "metadata": {},
   "outputs": [],
   "source": [
    "res = pd.DataFrame({'count' : df_sds0011.groupby( [ \"month\", \"sensor_id\"] ).size()}).reset_index()"
   ]
  },
  {
   "cell_type": "code",
   "execution_count": 19,
   "metadata": {},
   "outputs": [
    {
     "data": {
      "text/html": [
       "<div>\n",
       "<style scoped>\n",
       "    .dataframe tbody tr th:only-of-type {\n",
       "        vertical-align: middle;\n",
       "    }\n",
       "\n",
       "    .dataframe tbody tr th {\n",
       "        vertical-align: top;\n",
       "    }\n",
       "\n",
       "    .dataframe thead th {\n",
       "        text-align: right;\n",
       "    }\n",
       "</style>\n",
       "<table border=\"1\" class=\"dataframe\">\n",
       "  <thead>\n",
       "    <tr style=\"text-align: right;\">\n",
       "      <th></th>\n",
       "      <th>month</th>\n",
       "      <th>sensor_id</th>\n",
       "      <th>count</th>\n",
       "    </tr>\n",
       "  </thead>\n",
       "  <tbody>\n",
       "    <tr>\n",
       "      <th>0</th>\n",
       "      <td>2017-02</td>\n",
       "      <td>753</td>\n",
       "      <td>7675</td>\n",
       "    </tr>\n",
       "    <tr>\n",
       "      <th>1</th>\n",
       "      <td>2017-02</td>\n",
       "      <td>787</td>\n",
       "      <td>2983</td>\n",
       "    </tr>\n",
       "    <tr>\n",
       "      <th>2</th>\n",
       "      <td>2017-02</td>\n",
       "      <td>797</td>\n",
       "      <td>2879</td>\n",
       "    </tr>\n",
       "    <tr>\n",
       "      <th>3</th>\n",
       "      <td>2017-03</td>\n",
       "      <td>1018</td>\n",
       "      <td>30692</td>\n",
       "    </tr>\n",
       "    <tr>\n",
       "      <th>4</th>\n",
       "      <td>2017-03</td>\n",
       "      <td>1020</td>\n",
       "      <td>30779</td>\n",
       "    </tr>\n",
       "  </tbody>\n",
       "</table>\n",
       "</div>"
      ],
      "text/plain": [
       "     month sensor_id  count\n",
       "0  2017-02       753   7675\n",
       "1  2017-02       787   2983\n",
       "2  2017-02       797   2879\n",
       "3  2017-03      1018  30692\n",
       "4  2017-03      1020  30779"
      ]
     },
     "execution_count": 19,
     "metadata": {},
     "output_type": "execute_result"
    }
   ],
   "source": [
    "res.head()"
   ]
  },
  {
   "cell_type": "code",
   "execution_count": 20,
   "metadata": {},
   "outputs": [],
   "source": [
    "res2 = pd.DataFrame({'count' : res.groupby([\"month\"]).size()}).reset_index()"
   ]
  },
  {
   "cell_type": "code",
   "execution_count": 28,
   "metadata": {},
   "outputs": [
    {
     "data": {
      "text/html": [
       "<div>\n",
       "<style scoped>\n",
       "    .dataframe tbody tr th:only-of-type {\n",
       "        vertical-align: middle;\n",
       "    }\n",
       "\n",
       "    .dataframe tbody tr th {\n",
       "        vertical-align: top;\n",
       "    }\n",
       "\n",
       "    .dataframe thead th {\n",
       "        text-align: right;\n",
       "    }\n",
       "</style>\n",
       "<table border=\"1\" class=\"dataframe\">\n",
       "  <thead>\n",
       "    <tr style=\"text-align: right;\">\n",
       "      <th></th>\n",
       "      <th>month</th>\n",
       "      <th>count</th>\n",
       "    </tr>\n",
       "  </thead>\n",
       "  <tbody>\n",
       "    <tr>\n",
       "      <th>0</th>\n",
       "      <td>2017-02</td>\n",
       "      <td>3</td>\n",
       "    </tr>\n",
       "    <tr>\n",
       "      <th>1</th>\n",
       "      <td>2017-03</td>\n",
       "      <td>11</td>\n",
       "    </tr>\n",
       "    <tr>\n",
       "      <th>2</th>\n",
       "      <td>2017-04</td>\n",
       "      <td>22</td>\n",
       "    </tr>\n",
       "    <tr>\n",
       "      <th>3</th>\n",
       "      <td>2017-05</td>\n",
       "      <td>31</td>\n",
       "    </tr>\n",
       "    <tr>\n",
       "      <th>4</th>\n",
       "      <td>2017-06</td>\n",
       "      <td>42</td>\n",
       "    </tr>\n",
       "    <tr>\n",
       "      <th>5</th>\n",
       "      <td>2017-07</td>\n",
       "      <td>55</td>\n",
       "    </tr>\n",
       "    <tr>\n",
       "      <th>6</th>\n",
       "      <td>2017-08</td>\n",
       "      <td>66</td>\n",
       "    </tr>\n",
       "    <tr>\n",
       "      <th>7</th>\n",
       "      <td>2017-09</td>\n",
       "      <td>85</td>\n",
       "    </tr>\n",
       "    <tr>\n",
       "      <th>8</th>\n",
       "      <td>2017-10</td>\n",
       "      <td>137</td>\n",
       "    </tr>\n",
       "    <tr>\n",
       "      <th>9</th>\n",
       "      <td>2017-11</td>\n",
       "      <td>152</td>\n",
       "    </tr>\n",
       "  </tbody>\n",
       "</table>\n",
       "</div>"
      ],
      "text/plain": [
       "     month  count\n",
       "0  2017-02      3\n",
       "1  2017-03     11\n",
       "2  2017-04     22\n",
       "3  2017-05     31\n",
       "4  2017-06     42\n",
       "5  2017-07     55\n",
       "6  2017-08     66\n",
       "7  2017-09     85\n",
       "8  2017-10    137\n",
       "9  2017-11    152"
      ]
     },
     "execution_count": 28,
     "metadata": {},
     "output_type": "execute_result"
    }
   ],
   "source": [
    "res2.head(10) # for each month how many sensors we had"
   ]
  },
  {
   "cell_type": "code",
   "execution_count": 33,
   "metadata": {},
   "outputs": [
    {
     "data": {
      "image/png": "[encoded data removed]",
      "text/plain": [
       "<matplotlib.figure.Figure at 0x14ed4da20>"
      ]
     },
     "metadata": {},
     "output_type": "display_data"
    }
   ],
   "source": [
    "ax = sns.countplot(y='month', data=res)"
   ]
  },
  {
   "cell_type": "code",
   "execution_count": 39,
   "metadata": {},
   "outputs": [],
   "source": [
    "df_sds0011.to_csv('airbg_pollution.csv')"
   ]
  },
  {
   "cell_type": "markdown",
   "metadata": {},
   "source": [
    "# Get ids of sensors which have data for the longest period"
   ]
  },
  {
   "cell_type": "code",
   "execution_count": 38,
   "metadata": {},
   "outputs": [
    {
     "data": {
      "text/plain": [
       "array(['753', '787', '797'], dtype=object)"
      ]
     },
     "execution_count": 38,
     "metadata": {},
     "output_type": "execute_result"
    }
   ],
   "source": [
    "df_sds0011[df_sds0011['month']=='2017-02']['sensor_id'].unique()"
   ]
  },
  {
   "cell_type": "markdown",
   "metadata": {},
   "source": [
    "# Plot pollution measures for these over the year\n",
    "\n",
    "- Average over the month to show which months have more\n",
    "- Average over the hour to show which hours have more"
   ]
  },
  {
   "cell_type": "code",
   "execution_count": 14,
   "metadata": {},
   "outputs": [],
   "source": [
    "df_sds0011['P1'] = df_sds0011['P1'].astype('float')\n",
    "df_sds0011['P2'] = df_sds0011['P2'].astype('float')"
   ]
  },
  {
   "cell_type": "code",
   "execution_count": 21,
   "metadata": {},
   "outputs": [],
   "source": [
    "df_sds0011_3 = df_sds0011[df_sds0011['sensor_id'].isin(['753', '787', '797'])]"
   ]
  },
  {
   "cell_type": "code",
   "execution_count": 93,
   "metadata": {},
   "outputs": [
    {
     "data": {
      "text/plain": [
       "<seaborn.axisgrid.FacetGrid at 0x1236d31d0>"
      ]
     },
     "execution_count": 93,
     "metadata": {},
     "output_type": "execute_result"
    },
    {
     "data": {
      "image/png": "[encoded data removed]",
      "text/plain": [
       "<matplotlib.figure.Figure at 0x12284da58>"
      ]
     },
     "metadata": {},
     "output_type": "display_data"
    }
   ],
   "source": [
    "month_groups = df_sds0011_3.groupby(['month', 'sensor_id'])['P1'].mean().reset_index()\n",
    "sns.factorplot(x=\"P1\", y=\"month\", hue=\"sensor_id\", data=month_groups, kind=\"bar\")"
   ]
  },
  {
   "cell_type": "code",
   "execution_count": 94,
   "metadata": {},
   "outputs": [
    {
     "data": {
      "text/plain": [
       "<seaborn.axisgrid.FacetGrid at 0x11b7fadd8>"
      ]
     },
     "execution_count": 94,
     "metadata": {},
     "output_type": "execute_result"
    },
    {
     "data": {
      "image/png": "[encoded data removed]",
      "text/plain": [
       "<matplotlib.figure.Figure at 0x113a7ea20>"
      ]
     },
     "metadata": {},
     "output_type": "display_data"
    }
   ],
   "source": [
    "month_groups = df_sds0011_3.groupby(['month', 'sensor_id'])['P2'].mean().reset_index()\n",
    "sns.factorplot(x=\"P2\", y=\"month\", hue=\"sensor_id\", data=month_groups, kind=\"bar\")"
   ]
  },
  {
   "cell_type": "code",
   "execution_count": 86,
   "metadata": {},
   "outputs": [
    {
     "name": "stderr",
     "output_type": "stream",
     "text": [
      "/usr/local/lib/python3.6/site-packages/ipykernel_launcher.py:1: SettingWithCopyWarning: \n",
      "A value is trying to be set on a copy of a slice from a DataFrame.\n",
      "Try using .loc[row_indexer,col_indexer] = value instead\n",
      "\n",
      "See the caveats in the documentation: http://pandas.pydata.org/pandas-docs/stable/indexing.html#indexing-view-versus-copy\n",
      "  \"\"\"Entry point for launching an IPython kernel.\n"
     ]
    }
   ],
   "source": [
    "df_sds0011_3['hour'] = df_sds0011_3.apply(axis=1, func=lambda x: x['timestamp'].split('T')[-1][:2])"
   ]
  },
  {
   "cell_type": "code",
   "execution_count": 87,
   "metadata": {},
   "outputs": [
    {
     "data": {
      "text/html": [
       "<div>\n",
       "<style scoped>\n",
       "    .dataframe tbody tr th:only-of-type {\n",
       "        vertical-align: middle;\n",
       "    }\n",
       "\n",
       "    .dataframe tbody tr th {\n",
       "        vertical-align: top;\n",
       "    }\n",
       "\n",
       "    .dataframe thead th {\n",
       "        text-align: right;\n",
       "    }\n",
       "</style>\n",
       "<table border=\"1\" class=\"dataframe\">\n",
       "  <thead>\n",
       "    <tr style=\"text-align: right;\">\n",
       "      <th></th>\n",
       "      <th>sensor_id</th>\n",
       "      <th>sensor_type</th>\n",
       "      <th>location</th>\n",
       "      <th>lat</th>\n",
       "      <th>lon</th>\n",
       "      <th>timestamp</th>\n",
       "      <th>P1</th>\n",
       "      <th>durP1</th>\n",
       "      <th>ratioP1</th>\n",
       "      <th>P2</th>\n",
       "      <th>durP2</th>\n",
       "      <th>ratioP2</th>\n",
       "      <th>month</th>\n",
       "      <th>month_p</th>\n",
       "      <th>units</th>\n",
       "      <th>subject</th>\n",
       "      <th>hour</th>\n",
       "    </tr>\n",
       "  </thead>\n",
       "  <tbody>\n",
       "    <tr>\n",
       "      <th>0</th>\n",
       "      <td>753</td>\n",
       "      <td>SDS011</td>\n",
       "      <td>361</td>\n",
       "      <td>42.626</td>\n",
       "      <td>23.378</td>\n",
       "      <td>2017-02-23T17:50:05</td>\n",
       "      <td>49.22</td>\n",
       "      <td>NaN</td>\n",
       "      <td>NaN</td>\n",
       "      <td>34.25</td>\n",
       "      <td>NaN</td>\n",
       "      <td>NaN</td>\n",
       "      <td>2017-02-01T00:00:00</td>\n",
       "      <td>0</td>\n",
       "      <td>0</td>\n",
       "      <td>0</td>\n",
       "      <td>17</td>\n",
       "    </tr>\n",
       "    <tr>\n",
       "      <th>1</th>\n",
       "      <td>753</td>\n",
       "      <td>SDS011</td>\n",
       "      <td>361</td>\n",
       "      <td>42.626</td>\n",
       "      <td>23.378</td>\n",
       "      <td>2017-02-23T17:51:03</td>\n",
       "      <td>44.55</td>\n",
       "      <td>NaN</td>\n",
       "      <td>NaN</td>\n",
       "      <td>33.57</td>\n",
       "      <td>NaN</td>\n",
       "      <td>NaN</td>\n",
       "      <td>2017-02-01T00:00:00</td>\n",
       "      <td>0</td>\n",
       "      <td>0</td>\n",
       "      <td>0</td>\n",
       "      <td>17</td>\n",
       "    </tr>\n",
       "    <tr>\n",
       "      <th>2</th>\n",
       "      <td>753</td>\n",
       "      <td>SDS011</td>\n",
       "      <td>361</td>\n",
       "      <td>42.626</td>\n",
       "      <td>23.378</td>\n",
       "      <td>2017-02-23T17:52:02</td>\n",
       "      <td>42.03</td>\n",
       "      <td>NaN</td>\n",
       "      <td>NaN</td>\n",
       "      <td>30.17</td>\n",
       "      <td>NaN</td>\n",
       "      <td>NaN</td>\n",
       "      <td>2017-02-01T00:00:00</td>\n",
       "      <td>0</td>\n",
       "      <td>0</td>\n",
       "      <td>0</td>\n",
       "      <td>17</td>\n",
       "    </tr>\n",
       "    <tr>\n",
       "      <th>3</th>\n",
       "      <td>753</td>\n",
       "      <td>SDS011</td>\n",
       "      <td>361</td>\n",
       "      <td>42.626</td>\n",
       "      <td>23.378</td>\n",
       "      <td>2017-02-23T17:53:00</td>\n",
       "      <td>44.67</td>\n",
       "      <td>NaN</td>\n",
       "      <td>NaN</td>\n",
       "      <td>29.73</td>\n",
       "      <td>NaN</td>\n",
       "      <td>NaN</td>\n",
       "      <td>2017-02-01T00:00:00</td>\n",
       "      <td>0</td>\n",
       "      <td>0</td>\n",
       "      <td>0</td>\n",
       "      <td>17</td>\n",
       "    </tr>\n",
       "    <tr>\n",
       "      <th>4</th>\n",
       "      <td>753</td>\n",
       "      <td>SDS011</td>\n",
       "      <td>361</td>\n",
       "      <td>42.626</td>\n",
       "      <td>23.378</td>\n",
       "      <td>2017-02-23T17:53:59</td>\n",
       "      <td>56.25</td>\n",
       "      <td>NaN</td>\n",
       "      <td>NaN</td>\n",
       "      <td>32.93</td>\n",
       "      <td>NaN</td>\n",
       "      <td>NaN</td>\n",
       "      <td>2017-02-01T00:00:00</td>\n",
       "      <td>0</td>\n",
       "      <td>0</td>\n",
       "      <td>0</td>\n",
       "      <td>17</td>\n",
       "    </tr>\n",
       "  </tbody>\n",
       "</table>\n",
       "</div>"
      ],
      "text/plain": [
       "  sensor_id sensor_type location     lat     lon            timestamp     P1  \\\n",
       "0       753      SDS011      361  42.626  23.378  2017-02-23T17:50:05  49.22   \n",
       "1       753      SDS011      361  42.626  23.378  2017-02-23T17:51:03  44.55   \n",
       "2       753      SDS011      361  42.626  23.378  2017-02-23T17:52:02  42.03   \n",
       "3       753      SDS011      361  42.626  23.378  2017-02-23T17:53:00  44.67   \n",
       "4       753      SDS011      361  42.626  23.378  2017-02-23T17:53:59  56.25   \n",
       "\n",
       "  durP1 ratioP1     P2 durP2 ratioP2                month  month_p  units  \\\n",
       "0   NaN     NaN  34.25   NaN     NaN  2017-02-01T00:00:00        0      0   \n",
       "1   NaN     NaN  33.57   NaN     NaN  2017-02-01T00:00:00        0      0   \n",
       "2   NaN     NaN  30.17   NaN     NaN  2017-02-01T00:00:00        0      0   \n",
       "3   NaN     NaN  29.73   NaN     NaN  2017-02-01T00:00:00        0      0   \n",
       "4   NaN     NaN  32.93   NaN     NaN  2017-02-01T00:00:00        0      0   \n",
       "\n",
       "   subject hour  \n",
       "0        0   17  \n",
       "1        0   17  \n",
       "2        0   17  \n",
       "3        0   17  \n",
       "4        0   17  "
      ]
     },
     "execution_count": 87,
     "metadata": {},
     "output_type": "execute_result"
    }
   ],
   "source": [
    "df_sds0011_3.head()"
   ]
  },
  {
   "cell_type": "code",
   "execution_count": 98,
   "metadata": {},
   "outputs": [
    {
     "data": {
      "image/png": "[encoded data removed]",
      "text/plain": [
       "<matplotlib.figure.Figure at 0x123b78ba8>"
      ]
     },
     "metadata": {},
     "output_type": "display_data"
    }
   ],
   "source": [
    "hour_groups = df_sds0011_3.groupby(['hour', 'sensor_id'])['P1'].mean().reset_index()\n",
    "sns.factorplot(x=\"hour\", y=\"P1\", hue=\"sensor_id\", data=hour_groups, kind=\"bar\")"
   ]
  },
  {
   "cell_type": "code",
   "execution_count": 99,
   "metadata": {},
   "outputs": [
    {
     "data": {
      "image/png": "[encoded data removed]",
      "text/plain": [
       "<matplotlib.figure.Figure at 0x123b78d68>"
      ]
     },
     "metadata": {},
     "output_type": "display_data"
    }
   ],
   "source": [
    "hour_groups = df_sds0011_3.groupby(['hour', 'sensor_id'])['P2'].mean().reset_index()\n",
    "sns.factorplot(x=\"hour\", y=\"P2\", hue=\"sensor_id\", data=hour_groups, kind=\"bar\")"
   ]
  },
  {
   "cell_type": "code",
   "execution_count": 102,
   "metadata": {},
   "outputs": [
    {
     "data": {
      "text/plain": [
       "<seaborn.axisgrid.JointGrid at 0x123a17cc0>"
      ]
     },
     "execution_count": 102,
     "metadata": {},
     "output_type": "execute_result"
    },
    {
     "data": {
      "image/png": "[encoded data removed]",
      "text/plain": [
       "<matplotlib.figure.Figure at 0x123a17208>"
      ]
     },
     "metadata": {},
     "output_type": "display_data"
    }
   ],
   "source": [
    "hour_groups['hour'] = hour_groups['hour'].astype('int')\n",
    "sns.jointplot(data=hour_groups, x='hour', y='P2', kind='reg', color='g')"
   ]
  },
  {
   "cell_type": "code",
   "execution_count": 105,
   "metadata": {},
   "outputs": [
    {
     "data": {
      "text/plain": [
       "<seaborn.axisgrid.JointGrid at 0x129931e48>"
      ]
     },
     "execution_count": 105,
     "metadata": {},
     "output_type": "execute_result"
    },
    {
     "data": {
      "image/png": "[encoded data removed]",
      "text/plain": [
       "<matplotlib.figure.Figure at 0x129931518>"
      ]
     },
     "metadata": {},
     "output_type": "display_data"
    }
   ],
   "source": [
    "month_groups['month_n'] = month_groups['month'].apply(lambda x: int(x.split('-')[1]))\n",
    "sns.jointplot(data=month_groups, x='month_n', y='P2', kind='reg', color='g')"
   ]
  },
  {
   "cell_type": "code",
   "execution_count": 106,
   "metadata": {},
   "outputs": [
    {
     "data": {
      "text/plain": [
       "<seaborn.axisgrid.JointGrid at 0x1299c1e48>"
      ]
     },
     "execution_count": 106,
     "metadata": {},
     "output_type": "execute_result"
    },
    {
     "data": {
      "image/png": "[encoded data removed]",
      "text/plain": [
       "<matplotlib.figure.Figure at 0x1299c1ba8>"
      ]
     },
     "metadata": {},
     "output_type": "display_data"
    }
   ],
   "source": [
    "hour_groups_p12 = df_sds0011_3.groupby(['hour', 'sensor_id'])['P2', 'P1'].mean().reset_index()\n",
    "sns.jointplot(data=hour_groups_p12, x='P1', y='P2', kind='reg', color='g')"
   ]
  },
  {
   "cell_type": "code",
   "execution_count": 108,
   "metadata": {},
   "outputs": [
    {
     "data": {
      "text/plain": [
       "<seaborn.axisgrid.JointGrid at 0x12ba21dd8>"
      ]
     },
     "execution_count": 108,
     "metadata": {},
     "output_type": "execute_result"
    },
    {
     "data": {
      "image/png": "[encoded data removed]",
      "text/plain": [
       "<matplotlib.figure.Figure at 0x12ba219b0>"
      ]
     },
     "metadata": {},
     "output_type": "display_data"
    }
   ],
   "source": [
    "month_groups_p12 = df_sds0011_3.groupby(['month', 'sensor_id'])['P2', 'P1'].mean().reset_index()\n",
    "sns.jointplot(data=month_groups_p12, x='P1', y='P2', kind='reg', color='g')"
   ]
  },
  {
   "cell_type": "markdown",
   "metadata": {},
   "source": [
    "# Explore weather data"
   ]
  },
  {
   "cell_type": "code",
   "execution_count": 109,
   "metadata": {},
   "outputs": [],
   "source": [
    "weather = pd.read_csv(\"/Users/pgencheva/Downloads/sensor_data/HACKATHON_DATA/git/air-pollution/data/sofia-weather-data.csv\")"
   ]
  },
  {
   "cell_type": "code",
   "execution_count": 114,
   "metadata": {},
   "outputs": [
    {
     "data": {
      "text/html": [
       "<div>\n",
       "<style scoped>\n",
       "    .dataframe tbody tr th:only-of-type {\n",
       "        vertical-align: middle;\n",
       "    }\n",
       "\n",
       "    .dataframe tbody tr th {\n",
       "        vertical-align: top;\n",
       "    }\n",
       "\n",
       "    .dataframe thead th {\n",
       "        text-align: right;\n",
       "    }\n",
       "</style>\n",
       "<table border=\"1\" class=\"dataframe\">\n",
       "  <thead>\n",
       "    <tr style=\"text-align: right;\">\n",
       "      <th></th>\n",
       "      <th>dt</th>\n",
       "      <th>dt_iso</th>\n",
       "      <th>city_id</th>\n",
       "      <th>city_name</th>\n",
       "      <th>lat</th>\n",
       "      <th>lon</th>\n",
       "      <th>temp</th>\n",
       "      <th>temp_min</th>\n",
       "      <th>temp_max</th>\n",
       "      <th>pressure</th>\n",
       "      <th>...</th>\n",
       "      <th>snow_3h</th>\n",
       "      <th>snow_24h</th>\n",
       "      <th>snow_today</th>\n",
       "      <th>clouds_all</th>\n",
       "      <th>weather_id</th>\n",
       "      <th>weather_main</th>\n",
       "      <th>weather_description</th>\n",
       "      <th>weather_icon</th>\n",
       "      <th>date</th>\n",
       "      <th>time</th>\n",
       "    </tr>\n",
       "  </thead>\n",
       "  <tbody>\n",
       "    <tr>\n",
       "      <th>0</th>\n",
       "      <td>1349092800</td>\n",
       "      <td>2012-10-01 12:00:00 +0000 UTC</td>\n",
       "      <td>727011</td>\n",
       "      <td>NaN</td>\n",
       "      <td>NaN</td>\n",
       "      <td>NaN</td>\n",
       "      <td>303.15</td>\n",
       "      <td>296.30</td>\n",
       "      <td>303.15</td>\n",
       "      <td>1021</td>\n",
       "      <td>...</td>\n",
       "      <td>NaN</td>\n",
       "      <td>NaN</td>\n",
       "      <td>NaN</td>\n",
       "      <td>0</td>\n",
       "      <td>800</td>\n",
       "      <td>Clear</td>\n",
       "      <td>Sky is Clear</td>\n",
       "      <td>01d</td>\n",
       "      <td>2012-10-01</td>\n",
       "      <td>12:00:00</td>\n",
       "    </tr>\n",
       "    <tr>\n",
       "      <th>1</th>\n",
       "      <td>1349182800</td>\n",
       "      <td>2012-10-02 13:00:00 +0000 UTC</td>\n",
       "      <td>727011</td>\n",
       "      <td>NaN</td>\n",
       "      <td>NaN</td>\n",
       "      <td>NaN</td>\n",
       "      <td>304.15</td>\n",
       "      <td>296.30</td>\n",
       "      <td>304.15</td>\n",
       "      <td>1020</td>\n",
       "      <td>...</td>\n",
       "      <td>NaN</td>\n",
       "      <td>NaN</td>\n",
       "      <td>NaN</td>\n",
       "      <td>0</td>\n",
       "      <td>800</td>\n",
       "      <td>Clear</td>\n",
       "      <td>Sky is Clear</td>\n",
       "      <td>01d</td>\n",
       "      <td>2012-10-02</td>\n",
       "      <td>13:00:00</td>\n",
       "    </tr>\n",
       "    <tr>\n",
       "      <th>2</th>\n",
       "      <td>1349186400</td>\n",
       "      <td>2012-10-02 14:00:00 +0000 UTC</td>\n",
       "      <td>727011</td>\n",
       "      <td>NaN</td>\n",
       "      <td>NaN</td>\n",
       "      <td>NaN</td>\n",
       "      <td>302.15</td>\n",
       "      <td>296.30</td>\n",
       "      <td>302.15</td>\n",
       "      <td>1020</td>\n",
       "      <td>...</td>\n",
       "      <td>NaN</td>\n",
       "      <td>NaN</td>\n",
       "      <td>NaN</td>\n",
       "      <td>0</td>\n",
       "      <td>800</td>\n",
       "      <td>Clear</td>\n",
       "      <td>Sky is Clear</td>\n",
       "      <td>01d</td>\n",
       "      <td>2012-10-02</td>\n",
       "      <td>14:00:00</td>\n",
       "    </tr>\n",
       "    <tr>\n",
       "      <th>3</th>\n",
       "      <td>1349193600</td>\n",
       "      <td>2012-10-02 16:00:00 +0000 UTC</td>\n",
       "      <td>727011</td>\n",
       "      <td>NaN</td>\n",
       "      <td>NaN</td>\n",
       "      <td>NaN</td>\n",
       "      <td>299.15</td>\n",
       "      <td>296.30</td>\n",
       "      <td>299.90</td>\n",
       "      <td>1021</td>\n",
       "      <td>...</td>\n",
       "      <td>NaN</td>\n",
       "      <td>NaN</td>\n",
       "      <td>NaN</td>\n",
       "      <td>0</td>\n",
       "      <td>800</td>\n",
       "      <td>Clear</td>\n",
       "      <td>Sky is Clear</td>\n",
       "      <td>01d</td>\n",
       "      <td>2012-10-02</td>\n",
       "      <td>16:00:00</td>\n",
       "    </tr>\n",
       "    <tr>\n",
       "      <th>4</th>\n",
       "      <td>1349197200</td>\n",
       "      <td>2012-10-02 17:00:00 +0000 UTC</td>\n",
       "      <td>727011</td>\n",
       "      <td>NaN</td>\n",
       "      <td>NaN</td>\n",
       "      <td>NaN</td>\n",
       "      <td>294.15</td>\n",
       "      <td>294.15</td>\n",
       "      <td>299.90</td>\n",
       "      <td>1021</td>\n",
       "      <td>...</td>\n",
       "      <td>NaN</td>\n",
       "      <td>NaN</td>\n",
       "      <td>NaN</td>\n",
       "      <td>0</td>\n",
       "      <td>800</td>\n",
       "      <td>Clear</td>\n",
       "      <td>Sky is Clear</td>\n",
       "      <td>01n</td>\n",
       "      <td>2012-10-02</td>\n",
       "      <td>17:00:00</td>\n",
       "    </tr>\n",
       "  </tbody>\n",
       "</table>\n",
       "<p>5 rows × 30 columns</p>\n",
       "</div>"
      ],
      "text/plain": [
       "           dt                         dt_iso  city_id  city_name  lat  lon  \\\n",
       "0  1349092800  2012-10-01 12:00:00 +0000 UTC   727011        NaN  NaN  NaN   \n",
       "1  1349182800  2012-10-02 13:00:00 +0000 UTC   727011        NaN  NaN  NaN   \n",
       "2  1349186400  2012-10-02 14:00:00 +0000 UTC   727011        NaN  NaN  NaN   \n",
       "3  1349193600  2012-10-02 16:00:00 +0000 UTC   727011        NaN  NaN  NaN   \n",
       "4  1349197200  2012-10-02 17:00:00 +0000 UTC   727011        NaN  NaN  NaN   \n",
       "\n",
       "     temp  temp_min  temp_max  pressure    ...     snow_3h  snow_24h  \\\n",
       "0  303.15    296.30    303.15      1021    ...         NaN       NaN   \n",
       "1  304.15    296.30    304.15      1020    ...         NaN       NaN   \n",
       "2  302.15    296.30    302.15      1020    ...         NaN       NaN   \n",
       "3  299.15    296.30    299.90      1021    ...         NaN       NaN   \n",
       "4  294.15    294.15    299.90      1021    ...         NaN       NaN   \n",
       "\n",
       "   snow_today  clouds_all  weather_id  weather_main  weather_description  \\\n",
       "0         NaN           0         800         Clear         Sky is Clear   \n",
       "1         NaN           0         800         Clear         Sky is Clear   \n",
       "2         NaN           0         800         Clear         Sky is Clear   \n",
       "3         NaN           0         800         Clear         Sky is Clear   \n",
       "4         NaN           0         800         Clear         Sky is Clear   \n",
       "\n",
       "   weather_icon        date      time  \n",
       "0           01d  2012-10-01  12:00:00  \n",
       "1           01d  2012-10-02  13:00:00  \n",
       "2           01d  2012-10-02  14:00:00  \n",
       "3           01d  2012-10-02  16:00:00  \n",
       "4           01n  2012-10-02  17:00:00  \n",
       "\n",
       "[5 rows x 30 columns]"
      ]
     },
     "execution_count": 114,
     "metadata": {},
     "output_type": "execute_result"
    }
   ],
   "source": [
    "weather['date'] = weather['dt_iso'].apply(lambda x: x.split()[0])\n",
    "weather['time'] = weather['dt_iso'].apply(lambda x: x.split()[1])\n",
    "weather.head()"
   ]
  },
  {
   "cell_type": "code",
   "execution_count": 117,
   "metadata": {},
   "outputs": [
    {
     "name": "stderr",
     "output_type": "stream",
     "text": [
      "/usr/local/lib/python3.6/site-packages/ipykernel_launcher.py:1: SettingWithCopyWarning: \n",
      "A value is trying to be set on a copy of a slice from a DataFrame.\n",
      "Try using .loc[row_indexer,col_indexer] = value instead\n",
      "\n",
      "See the caveats in the documentation: http://pandas.pydata.org/pandas-docs/stable/indexing.html#indexing-view-versus-copy\n",
      "  \"\"\"Entry point for launching an IPython kernel.\n",
      "/usr/local/lib/python3.6/site-packages/ipykernel_launcher.py:2: SettingWithCopyWarning: \n",
      "A value is trying to be set on a copy of a slice from a DataFrame.\n",
      "Try using .loc[row_indexer,col_indexer] = value instead\n",
      "\n",
      "See the caveats in the documentation: http://pandas.pydata.org/pandas-docs/stable/indexing.html#indexing-view-versus-copy\n",
      "  \n"
     ]
    },
    {
     "data": {
      "text/html": [
       "<div>\n",
       "<style scoped>\n",
       "    .dataframe tbody tr th:only-of-type {\n",
       "        vertical-align: middle;\n",
       "    }\n",
       "\n",
       "    .dataframe tbody tr th {\n",
       "        vertical-align: top;\n",
       "    }\n",
       "\n",
       "    .dataframe thead th {\n",
       "        text-align: right;\n",
       "    }\n",
       "</style>\n",
       "<table border=\"1\" class=\"dataframe\">\n",
       "  <thead>\n",
       "    <tr style=\"text-align: right;\">\n",
       "      <th></th>\n",
       "      <th>sensor_id</th>\n",
       "      <th>sensor_type</th>\n",
       "      <th>location</th>\n",
       "      <th>lat</th>\n",
       "      <th>lon</th>\n",
       "      <th>timestamp</th>\n",
       "      <th>P1</th>\n",
       "      <th>durP1</th>\n",
       "      <th>ratioP1</th>\n",
       "      <th>P2</th>\n",
       "      <th>durP2</th>\n",
       "      <th>ratioP2</th>\n",
       "      <th>month</th>\n",
       "      <th>month_p</th>\n",
       "      <th>units</th>\n",
       "      <th>subject</th>\n",
       "      <th>hour</th>\n",
       "      <th>time</th>\n",
       "      <th>date</th>\n",
       "    </tr>\n",
       "  </thead>\n",
       "  <tbody>\n",
       "    <tr>\n",
       "      <th>0</th>\n",
       "      <td>753</td>\n",
       "      <td>SDS011</td>\n",
       "      <td>361</td>\n",
       "      <td>42.626</td>\n",
       "      <td>23.378</td>\n",
       "      <td>2017-02-23T17:50:05</td>\n",
       "      <td>49.22</td>\n",
       "      <td>NaN</td>\n",
       "      <td>NaN</td>\n",
       "      <td>34.25</td>\n",
       "      <td>NaN</td>\n",
       "      <td>NaN</td>\n",
       "      <td>2017-02-01T00:00:00</td>\n",
       "      <td>0</td>\n",
       "      <td>0</td>\n",
       "      <td>0</td>\n",
       "      <td>17</td>\n",
       "      <td>17:00:00</td>\n",
       "      <td>2017-02-23</td>\n",
       "    </tr>\n",
       "    <tr>\n",
       "      <th>1</th>\n",
       "      <td>753</td>\n",
       "      <td>SDS011</td>\n",
       "      <td>361</td>\n",
       "      <td>42.626</td>\n",
       "      <td>23.378</td>\n",
       "      <td>2017-02-23T17:51:03</td>\n",
       "      <td>44.55</td>\n",
       "      <td>NaN</td>\n",
       "      <td>NaN</td>\n",
       "      <td>33.57</td>\n",
       "      <td>NaN</td>\n",
       "      <td>NaN</td>\n",
       "      <td>2017-02-01T00:00:00</td>\n",
       "      <td>0</td>\n",
       "      <td>0</td>\n",
       "      <td>0</td>\n",
       "      <td>17</td>\n",
       "      <td>17:00:00</td>\n",
       "      <td>2017-02-23</td>\n",
       "    </tr>\n",
       "    <tr>\n",
       "      <th>2</th>\n",
       "      <td>753</td>\n",
       "      <td>SDS011</td>\n",
       "      <td>361</td>\n",
       "      <td>42.626</td>\n",
       "      <td>23.378</td>\n",
       "      <td>2017-02-23T17:52:02</td>\n",
       "      <td>42.03</td>\n",
       "      <td>NaN</td>\n",
       "      <td>NaN</td>\n",
       "      <td>30.17</td>\n",
       "      <td>NaN</td>\n",
       "      <td>NaN</td>\n",
       "      <td>2017-02-01T00:00:00</td>\n",
       "      <td>0</td>\n",
       "      <td>0</td>\n",
       "      <td>0</td>\n",
       "      <td>17</td>\n",
       "      <td>17:00:00</td>\n",
       "      <td>2017-02-23</td>\n",
       "    </tr>\n",
       "    <tr>\n",
       "      <th>3</th>\n",
       "      <td>753</td>\n",
       "      <td>SDS011</td>\n",
       "      <td>361</td>\n",
       "      <td>42.626</td>\n",
       "      <td>23.378</td>\n",
       "      <td>2017-02-23T17:53:00</td>\n",
       "      <td>44.67</td>\n",
       "      <td>NaN</td>\n",
       "      <td>NaN</td>\n",
       "      <td>29.73</td>\n",
       "      <td>NaN</td>\n",
       "      <td>NaN</td>\n",
       "      <td>2017-02-01T00:00:00</td>\n",
       "      <td>0</td>\n",
       "      <td>0</td>\n",
       "      <td>0</td>\n",
       "      <td>17</td>\n",
       "      <td>17:00:00</td>\n",
       "      <td>2017-02-23</td>\n",
       "    </tr>\n",
       "    <tr>\n",
       "      <th>4</th>\n",
       "      <td>753</td>\n",
       "      <td>SDS011</td>\n",
       "      <td>361</td>\n",
       "      <td>42.626</td>\n",
       "      <td>23.378</td>\n",
       "      <td>2017-02-23T17:53:59</td>\n",
       "      <td>56.25</td>\n",
       "      <td>NaN</td>\n",
       "      <td>NaN</td>\n",
       "      <td>32.93</td>\n",
       "      <td>NaN</td>\n",
       "      <td>NaN</td>\n",
       "      <td>2017-02-01T00:00:00</td>\n",
       "      <td>0</td>\n",
       "      <td>0</td>\n",
       "      <td>0</td>\n",
       "      <td>17</td>\n",
       "      <td>17:00:00</td>\n",
       "      <td>2017-02-23</td>\n",
       "    </tr>\n",
       "  </tbody>\n",
       "</table>\n",
       "</div>"
      ],
      "text/plain": [
       "  sensor_id sensor_type location     lat     lon            timestamp     P1  \\\n",
       "0       753      SDS011      361  42.626  23.378  2017-02-23T17:50:05  49.22   \n",
       "1       753      SDS011      361  42.626  23.378  2017-02-23T17:51:03  44.55   \n",
       "2       753      SDS011      361  42.626  23.378  2017-02-23T17:52:02  42.03   \n",
       "3       753      SDS011      361  42.626  23.378  2017-02-23T17:53:00  44.67   \n",
       "4       753      SDS011      361  42.626  23.378  2017-02-23T17:53:59  56.25   \n",
       "\n",
       "  durP1 ratioP1     P2 durP2 ratioP2                month  month_p  units  \\\n",
       "0   NaN     NaN  34.25   NaN     NaN  2017-02-01T00:00:00        0      0   \n",
       "1   NaN     NaN  33.57   NaN     NaN  2017-02-01T00:00:00        0      0   \n",
       "2   NaN     NaN  30.17   NaN     NaN  2017-02-01T00:00:00        0      0   \n",
       "3   NaN     NaN  29.73   NaN     NaN  2017-02-01T00:00:00        0      0   \n",
       "4   NaN     NaN  32.93   NaN     NaN  2017-02-01T00:00:00        0      0   \n",
       "\n",
       "   subject hour      time        date  \n",
       "0        0   17  17:00:00  2017-02-23  \n",
       "1        0   17  17:00:00  2017-02-23  \n",
       "2        0   17  17:00:00  2017-02-23  \n",
       "3        0   17  17:00:00  2017-02-23  \n",
       "4        0   17  17:00:00  2017-02-23  "
      ]
     },
     "execution_count": 117,
     "metadata": {},
     "output_type": "execute_result"
    }
   ],
   "source": [
    "df_sds0011_3['time'] = df_sds0011_3['hour'].apply(lambda x: x+\":00:00\")\n",
    "df_sds0011_3['date'] = df_sds0011_3['timestamp'].apply(lambda x: x.split(\"T\")[0])\n",
    "df_sds0011_3.head()"
   ]
  },
  {
   "cell_type": "code",
   "execution_count": 131,
   "metadata": {},
   "outputs": [],
   "source": [
    "df_weather_pollution = weather.merge(df_sds0011_3, how = 'inner', on = ['date', 'time'])"
   ]
  },
  {
   "cell_type": "code",
   "execution_count": 119,
   "metadata": {},
   "outputs": [
    {
     "data": {
      "text/html": [
       "<div>\n",
       "<style scoped>\n",
       "    .dataframe tbody tr th:only-of-type {\n",
       "        vertical-align: middle;\n",
       "    }\n",
       "\n",
       "    .dataframe tbody tr th {\n",
       "        vertical-align: top;\n",
       "    }\n",
       "\n",
       "    .dataframe thead th {\n",
       "        text-align: right;\n",
       "    }\n",
       "</style>\n",
       "<table border=\"1\" class=\"dataframe\">\n",
       "  <thead>\n",
       "    <tr style=\"text-align: right;\">\n",
       "      <th></th>\n",
       "      <th>dt</th>\n",
       "      <th>dt_iso</th>\n",
       "      <th>city_id</th>\n",
       "      <th>city_name</th>\n",
       "      <th>lat_x</th>\n",
       "      <th>lon_x</th>\n",
       "      <th>temp</th>\n",
       "      <th>temp_min</th>\n",
       "      <th>temp_max</th>\n",
       "      <th>pressure</th>\n",
       "      <th>...</th>\n",
       "      <th>durP1</th>\n",
       "      <th>ratioP1</th>\n",
       "      <th>P2</th>\n",
       "      <th>durP2</th>\n",
       "      <th>ratioP2</th>\n",
       "      <th>month</th>\n",
       "      <th>month_p</th>\n",
       "      <th>units</th>\n",
       "      <th>subject</th>\n",
       "      <th>hour</th>\n",
       "    </tr>\n",
       "  </thead>\n",
       "  <tbody>\n",
       "    <tr>\n",
       "      <th>0</th>\n",
       "      <td>1487869200</td>\n",
       "      <td>2017-02-23 17:00:00 +0000 UTC</td>\n",
       "      <td>727011</td>\n",
       "      <td>NaN</td>\n",
       "      <td>NaN</td>\n",
       "      <td>NaN</td>\n",
       "      <td>287.15</td>\n",
       "      <td>287.15</td>\n",
       "      <td>287.15</td>\n",
       "      <td>1012</td>\n",
       "      <td>...</td>\n",
       "      <td>NaN</td>\n",
       "      <td>NaN</td>\n",
       "      <td>34.25</td>\n",
       "      <td>NaN</td>\n",
       "      <td>NaN</td>\n",
       "      <td>2017-02-01T00:00:00</td>\n",
       "      <td>0</td>\n",
       "      <td>0</td>\n",
       "      <td>0</td>\n",
       "      <td>17</td>\n",
       "    </tr>\n",
       "    <tr>\n",
       "      <th>1</th>\n",
       "      <td>1487869200</td>\n",
       "      <td>2017-02-23 17:00:00 +0000 UTC</td>\n",
       "      <td>727011</td>\n",
       "      <td>NaN</td>\n",
       "      <td>NaN</td>\n",
       "      <td>NaN</td>\n",
       "      <td>287.15</td>\n",
       "      <td>287.15</td>\n",
       "      <td>287.15</td>\n",
       "      <td>1012</td>\n",
       "      <td>...</td>\n",
       "      <td>NaN</td>\n",
       "      <td>NaN</td>\n",
       "      <td>33.57</td>\n",
       "      <td>NaN</td>\n",
       "      <td>NaN</td>\n",
       "      <td>2017-02-01T00:00:00</td>\n",
       "      <td>0</td>\n",
       "      <td>0</td>\n",
       "      <td>0</td>\n",
       "      <td>17</td>\n",
       "    </tr>\n",
       "    <tr>\n",
       "      <th>2</th>\n",
       "      <td>1487869200</td>\n",
       "      <td>2017-02-23 17:00:00 +0000 UTC</td>\n",
       "      <td>727011</td>\n",
       "      <td>NaN</td>\n",
       "      <td>NaN</td>\n",
       "      <td>NaN</td>\n",
       "      <td>287.15</td>\n",
       "      <td>287.15</td>\n",
       "      <td>287.15</td>\n",
       "      <td>1012</td>\n",
       "      <td>...</td>\n",
       "      <td>NaN</td>\n",
       "      <td>NaN</td>\n",
       "      <td>30.17</td>\n",
       "      <td>NaN</td>\n",
       "      <td>NaN</td>\n",
       "      <td>2017-02-01T00:00:00</td>\n",
       "      <td>0</td>\n",
       "      <td>0</td>\n",
       "      <td>0</td>\n",
       "      <td>17</td>\n",
       "    </tr>\n",
       "    <tr>\n",
       "      <th>3</th>\n",
       "      <td>1487869200</td>\n",
       "      <td>2017-02-23 17:00:00 +0000 UTC</td>\n",
       "      <td>727011</td>\n",
       "      <td>NaN</td>\n",
       "      <td>NaN</td>\n",
       "      <td>NaN</td>\n",
       "      <td>287.15</td>\n",
       "      <td>287.15</td>\n",
       "      <td>287.15</td>\n",
       "      <td>1012</td>\n",
       "      <td>...</td>\n",
       "      <td>NaN</td>\n",
       "      <td>NaN</td>\n",
       "      <td>29.73</td>\n",
       "      <td>NaN</td>\n",
       "      <td>NaN</td>\n",
       "      <td>2017-02-01T00:00:00</td>\n",
       "      <td>0</td>\n",
       "      <td>0</td>\n",
       "      <td>0</td>\n",
       "      <td>17</td>\n",
       "    </tr>\n",
       "    <tr>\n",
       "      <th>4</th>\n",
       "      <td>1487869200</td>\n",
       "      <td>2017-02-23 17:00:00 +0000 UTC</td>\n",
       "      <td>727011</td>\n",
       "      <td>NaN</td>\n",
       "      <td>NaN</td>\n",
       "      <td>NaN</td>\n",
       "      <td>287.15</td>\n",
       "      <td>287.15</td>\n",
       "      <td>287.15</td>\n",
       "      <td>1012</td>\n",
       "      <td>...</td>\n",
       "      <td>NaN</td>\n",
       "      <td>NaN</td>\n",
       "      <td>32.93</td>\n",
       "      <td>NaN</td>\n",
       "      <td>NaN</td>\n",
       "      <td>2017-02-01T00:00:00</td>\n",
       "      <td>0</td>\n",
       "      <td>0</td>\n",
       "      <td>0</td>\n",
       "      <td>17</td>\n",
       "    </tr>\n",
       "  </tbody>\n",
       "</table>\n",
       "<p>5 rows × 47 columns</p>\n",
       "</div>"
      ],
      "text/plain": [
       "           dt                         dt_iso  city_id  city_name  lat_x  \\\n",
       "0  1487869200  2017-02-23 17:00:00 +0000 UTC   727011        NaN    NaN   \n",
       "1  1487869200  2017-02-23 17:00:00 +0000 UTC   727011        NaN    NaN   \n",
       "2  1487869200  2017-02-23 17:00:00 +0000 UTC   727011        NaN    NaN   \n",
       "3  1487869200  2017-02-23 17:00:00 +0000 UTC   727011        NaN    NaN   \n",
       "4  1487869200  2017-02-23 17:00:00 +0000 UTC   727011        NaN    NaN   \n",
       "\n",
       "   lon_x    temp  temp_min  temp_max  pressure  ...   durP1  ratioP1     P2  \\\n",
       "0    NaN  287.15    287.15    287.15      1012  ...     NaN      NaN  34.25   \n",
       "1    NaN  287.15    287.15    287.15      1012  ...     NaN      NaN  33.57   \n",
       "2    NaN  287.15    287.15    287.15      1012  ...     NaN      NaN  30.17   \n",
       "3    NaN  287.15    287.15    287.15      1012  ...     NaN      NaN  29.73   \n",
       "4    NaN  287.15    287.15    287.15      1012  ...     NaN      NaN  32.93   \n",
       "\n",
       "   durP2  ratioP2                month  month_p  units  subject  hour  \n",
       "0    NaN      NaN  2017-02-01T00:00:00        0      0        0    17  \n",
       "1    NaN      NaN  2017-02-01T00:00:00        0      0        0    17  \n",
       "2    NaN      NaN  2017-02-01T00:00:00        0      0        0    17  \n",
       "3    NaN      NaN  2017-02-01T00:00:00        0      0        0    17  \n",
       "4    NaN      NaN  2017-02-01T00:00:00        0      0        0    17  \n",
       "\n",
       "[5 rows x 47 columns]"
      ]
     },
     "execution_count": 119,
     "metadata": {},
     "output_type": "execute_result"
    }
   ],
   "source": [
    "df_weather_pollution.head()"
   ]
  },
  {
   "cell_type": "code",
   "execution_count": 123,
   "metadata": {},
   "outputs": [
    {
     "data": {
      "text/plain": [
       "numpy.float64"
      ]
     },
     "execution_count": 123,
     "metadata": {},
     "output_type": "execute_result"
    }
   ],
   "source": []
  },
  {
   "cell_type": "code",
   "execution_count": 128,
   "metadata": {},
   "outputs": [
    {
     "data": {
      "text/plain": [
       "<seaborn.axisgrid.JointGrid at 0x12b9f4898>"
      ]
     },
     "execution_count": 128,
     "metadata": {},
     "output_type": "execute_result"
    },
    {
     "data": {
      "image/png": "[encoded data removed]",
      "text/plain": [
       "<matplotlib.figure.Figure at 0x12d481c88>"
      ]
     },
     "metadata": {},
     "output_type": "display_data"
    }
   ],
   "source": [
    "df_weather_pollution = df_weather_pollution.groupby(['date', 'sensor_id'])['P2', 'P1', 'temp'].mean().reset_index()\n",
    "sns.jointplot(data=df_weather_pollution, x='P1', y='temp',  color='g', kind='kde')"
   ]
  },
  {
   "cell_type": "code",
   "execution_count": null,
   "metadata": {},
   "outputs": [],
   "source": [
    "sns.regplot(x=\"P1\", y=\"temp\", data=df_weather_pollution)"
   ]
  },
  {
   "cell_type": "code",
   "execution_count": null,
   "metadata": {},
   "outputs": [],
   "source": []
  }
 ],
 "metadata": {
  "kernelspec": {
   "display_name": "Python 3",
   "language": "python",
   "name": "python3"
  },
  "language_info": {
   "codemirror_mode": {
    "name": "ipython",
    "version": 3
   },
   "file_extension": ".py",
   "mimetype": "text/x-python",
   "name": "python",
   "nbconvert_exporter": "python",
   "pygments_lexer": "ipython3",
   "version": "3.6.4"
  }
 },
 "nbformat": 4,
 "nbformat_minor": 2
}
